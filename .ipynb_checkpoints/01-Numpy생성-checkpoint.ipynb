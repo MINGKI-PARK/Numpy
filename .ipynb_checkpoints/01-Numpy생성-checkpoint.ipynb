{
 "cells": [
  {
   "cell_type": "markdown",
   "metadata": {},
   "source": [
    "# 01_Numpy\n",
    "\n",
    "2020.08.04"
   ]
  },
  {
   "cell_type": "code",
   "execution_count": 1,
   "metadata": {
    "ExecuteTime": {
     "end_time": "2020-08-04T03:36:22.046354Z",
     "start_time": "2020-08-04T03:36:21.767895Z"
    }
   },
   "outputs": [],
   "source": [
    "import numpy as np"
   ]
  },
  {
   "cell_type": "markdown",
   "metadata": {
    "toc": true
   },
   "source": [
    "<h1>Table of Contents<span class=\"tocSkip\"></span></h1>\n",
    "<div class=\"toc\"><ul class=\"toc-item\"><li><span><a href=\"#넘파이-(Numpy)\" data-toc-modified-id=\"넘파이-(Numpy)-1\"><span class=\"toc-item-num\">1&nbsp;&nbsp;</span>넘파이 (Numpy)</a></span><ul class=\"toc-item\"><li><span><a href=\"#넘파이에서-데이터-구조\" data-toc-modified-id=\"넘파이에서-데이터-구조-1.1\"><span class=\"toc-item-num\">1.1&nbsp;&nbsp;</span>넘파이에서 데이터 구조</a></span><ul class=\"toc-item\"><li><span><a href=\"#벡터\" data-toc-modified-id=\"벡터-1.1.1\"><span class=\"toc-item-num\">1.1.1&nbsp;&nbsp;</span><strong>벡터</strong></a></span></li></ul></li><li><span><a href=\"#용어\" data-toc-modified-id=\"용어-1.2\"><span class=\"toc-item-num\">1.2&nbsp;&nbsp;</span>용어</a></span><ul class=\"toc-item\"><li><span><a href=\"#예제\" data-toc-modified-id=\"예제-1.2.1\"><span class=\"toc-item-num\">1.2.1&nbsp;&nbsp;</span>예제</a></span></li></ul></li></ul></li><li><span><a href=\"#넘파이-배열(ndarray)\" data-toc-modified-id=\"넘파이-배열(ndarray)-2\"><span class=\"toc-item-num\">2&nbsp;&nbsp;</span>넘파이 배열(ndarray)</a></span><ul class=\"toc-item\"><li><span><a href=\"#차원-(dimension)\" data-toc-modified-id=\"차원-(dimension)-2.1\"><span class=\"toc-item-num\">2.1&nbsp;&nbsp;</span>차원 (dimension)</a></span></li></ul></li><li><span><a href=\"#배열-생성-함수\" data-toc-modified-id=\"배열-생성-함수-3\"><span class=\"toc-item-num\">3&nbsp;&nbsp;</span>배열 생성 함수</a></span><ul class=\"toc-item\"><li><span><a href=\"#array(배열형태-객체-[,-dtype])\" data-toc-modified-id=\"array(배열형태-객체-[,-dtype])-3.1\"><span class=\"toc-item-num\">3.1&nbsp;&nbsp;</span>array(배열형태 객체 [, dtype])</a></span></li><li><span><a href=\"#데이터-타입\" data-toc-modified-id=\"데이터-타입-3.2\"><span class=\"toc-item-num\">3.2&nbsp;&nbsp;</span>데이터 타입</a></span></li><li><span><a href=\"#zeros(shape,-dtype)\" data-toc-modified-id=\"zeros(shape,-dtype)-3.3\"><span class=\"toc-item-num\">3.3&nbsp;&nbsp;</span>zeros(shape, dtype)</a></span></li><li><span><a href=\"#ones(shape,-dtype)\" data-toc-modified-id=\"ones(shape,-dtype)-3.4\"><span class=\"toc-item-num\">3.4&nbsp;&nbsp;</span>ones(shape, dtype)</a></span></li><li><span><a href=\"#full(shape,-fill_value,-dtype))\" data-toc-modified-id=\"full(shape,-fill_value,-dtype))-3.5\"><span class=\"toc-item-num\">3.5&nbsp;&nbsp;</span>full(shape, fill_value, dtype))</a></span></li><li><span><a href=\"#xxx_like(ndarray)\" data-toc-modified-id=\"xxx_like(ndarray)-3.6\"><span class=\"toc-item-num\">3.6&nbsp;&nbsp;</span>xxx_like(ndarray)</a></span></li><li><span><a href=\"#xxx_like(ndarray)\" data-toc-modified-id=\"xxx_like(ndarray)-3.7\"><span class=\"toc-item-num\">3.7&nbsp;&nbsp;</span>xxx_like(ndarray)</a></span></li><li><span><a href=\"#arange(start,-stop,-step,-dtype)\" data-toc-modified-id=\"arange(start,-stop,-step,-dtype)-3.8\"><span class=\"toc-item-num\">3.8&nbsp;&nbsp;</span>arange(start, stop, step, dtype)</a></span></li><li><span><a href=\"#linspace(start,-stop,-num=50,-endpoint=True,-retstep=False,-dtype=None)\" data-toc-modified-id=\"linspace(start,-stop,-num=50,-endpoint=True,-retstep=False,-dtype=None)-3.9\"><span class=\"toc-item-num\">3.9&nbsp;&nbsp;</span>linspace(start, stop, num=50, endpoint=True, retstep=False, dtype=None)</a></span></li><li><span><a href=\"#eye(N,-M=None,-k=0,-dtype=<class-'float'>)--/--identity(N)\" data-toc-modified-id=\"eye(N,-M=None,-k=0,-dtype=<class-'float'>)--/--identity(N)-3.10\"><span class=\"toc-item-num\">3.10&nbsp;&nbsp;</span>eye(N, M=None, k=0, dtype=&lt;class 'float'&gt;)  /  identity(N)</a></span><ul class=\"toc-item\"><li><span><a href=\"#대각행렬\" data-toc-modified-id=\"대각행렬-3.10.1\"><span class=\"toc-item-num\">3.10.1&nbsp;&nbsp;</span>대각행렬</a></span></li><li><span><a href=\"#항등행렬/단위행렬\" data-toc-modified-id=\"항등행렬/단위행렬-3.10.2\"><span class=\"toc-item-num\">3.10.2&nbsp;&nbsp;</span>항등행렬/단위행렬</a></span></li></ul></li></ul></li><li><span><a href=\"#난수를-원소로-하는-ndarray-생성\" data-toc-modified-id=\"난수를-원소로-하는-ndarray-생성-4\"><span class=\"toc-item-num\">4&nbsp;&nbsp;</span>난수를 원소로 하는 ndarray 생성</a></span><ul class=\"toc-item\"><li><span><a href=\"#np.random.seed(시드값)\" data-toc-modified-id=\"np.random.seed(시드값)-4.1\"><span class=\"toc-item-num\">4.1&nbsp;&nbsp;</span>np.random.seed(시드값)</a></span></li><li><span><a href=\"#np.random.rand(axis0[,-axis1,-axis2,-...])\" data-toc-modified-id=\"np.random.rand(axis0[,-axis1,-axis2,-...])-4.2\"><span class=\"toc-item-num\">4.2&nbsp;&nbsp;</span>np.random.rand(axis0[, axis1, axis2, ...])</a></span></li><li><span><a href=\"#np.random.normal(loc=0.0,-scale=1.0,-size=None)\" data-toc-modified-id=\"np.random.normal(loc=0.0,-scale=1.0,-size=None)-4.3\"><span class=\"toc-item-num\">4.3&nbsp;&nbsp;</span>np.random.normal(loc=0.0, scale=1.0, size=None)</a></span><ul class=\"toc-item\"><li><span><a href=\"#표준정규분포\" data-toc-modified-id=\"표준정규분포-4.3.1\"><span class=\"toc-item-num\">4.3.1&nbsp;&nbsp;</span>표준정규분포</a></span></li></ul></li><li><span><a href=\"#np.random.randint(low,-high=None,-size=None,-dtype='l')\" data-toc-modified-id=\"np.random.randint(low,-high=None,-size=None,-dtype='l')-4.4\"><span class=\"toc-item-num\">4.4&nbsp;&nbsp;</span>np.random.randint(low, high=None, size=None, dtype='l')</a></span></li><li><span><a href=\"#np.random.choice(a,-size=None,-replace=True,-p=None)\" data-toc-modified-id=\"np.random.choice(a,-size=None,-replace=True,-p=None)-4.5\"><span class=\"toc-item-num\">4.5&nbsp;&nbsp;</span>np.random.choice(a, size=None, replace=True, p=None)</a></span></li></ul></li></ul></div>"
   ]
  },
  {
   "cell_type": "markdown",
   "metadata": {},
   "source": [
    "## 넘파이 (Numpy) \n",
    "\n",
    "- http://www.numpy.org\n",
    "- Numerical Python\n",
    "- 고성능 과학연산을 위한 패키지로 데이터분석, 머신러닝등에  필수로 사용된다.\n",
    "- 강력한 다차원 배열(array)  지원\n",
    "- 벡터 연산 지원\n",
    "- 다양한 수학관련 함수\n",
    "- 선형대수, 난수 생성, 푸리에 변환 기능 지원\n"
   ]
  },
  {
   "cell_type": "markdown",
   "metadata": {
    "slideshow": {
     "slide_type": "slide"
    }
   },
   "source": [
    "### 넘파이에서 데이터 구조\n",
    "- 스칼라 (Scalar)\n",
    "    - 하나의 숫자로 이루어진 데이터\n",
    "- 벡터 (Vector)\n",
    "    - 여러개의 숫자들을 특정한 순서대로 모아놓은 데이터 모음(데이터 레코드)\n",
    "    - 1D Array (1차원 배열)\n",
    "- 행렬 (Matrix)\n",
    "    - 벡터들을 모아놓은 데이터 집합\n",
    "    - 2D Array (2차원 배열)\n",
    "- 텐서 (Tensor)\n",
    "    - 같은 크기의 행렬들(텐서들)을 모아놓은 데이터 집합\n",
    "    - ND Array (다차원 배열)"
   ]
  },
  {
   "cell_type": "markdown",
   "metadata": {},
   "source": [
    "#### **벡터**\n",
    "- 크기\n",
    "- 방향 : 방향이 있다는 것은 결국 순서가 있다. 같은 숫자가 들어가 있어도 다르다.\n",
    "\n",
    "\n",
    "```python\n",
    "[1, 2, 3]\n",
    "---------> 축\n",
    "# 1차원\n",
    "\n",
    "['사과', '귤', '배']\n",
    "\n",
    "[\n",
    "[3, 2, 1], ^\n",
    "[5, 1, 3], | 축\n",
    "[3, 7, 2], |\n",
    "]\n",
    "---------> 축\n",
    "# 축 내지 차원.\n",
    "# 2차원 디멘션 2D\n",
    "```"
   ]
  },
  {
   "cell_type": "markdown",
   "metadata": {},
   "source": [
    "### 용어\n",
    "- 축 (axis) \n",
    "    - 값들의 나열 방향\n",
    "    - 하나의 축(axis)는 하나의 범주(Category)이다.\n",
    "- 랭크(rank) \n",
    "    - 데이터 집합에서 축의 개수. \n",
    "- 형태/형상(shape)\n",
    "    - 각 축(axis) 별 데이터의 개수\n",
    "- 크기(size) \n",
    "    - 배열내 원소의 총 개수"
   ]
  },
  {
   "cell_type": "markdown",
   "metadata": {},
   "source": [
    "#### 예제\n",
    "\n",
    "```python\n",
    "[\n",
    "    [\n",
    "        [0, 0, 0],\n",
    "        [0, 0, 0]\n",
    "    ],\n",
    "    [\n",
    "        [0, 0, 0],\n",
    "        [0, 0, 0]\n",
    "    ]\n",
    "]\n",
    "\n",
    "```\n",
    "밖에 있는 것부터 센다.\n",
    "\n",
    "2, 2, 3\n",
    "\n",
    "총 데이터 갯수는 12개\n",
    "\n",
    "\n",
    "축이 헷갈릴 수 있다. 특히 3차원이상"
   ]
  },
  {
   "cell_type": "markdown",
   "metadata": {
    "slideshow": {
     "slide_type": "subslide"
    }
   },
   "source": [
    "![array_shape](https://www.oreilly.com/library/view/elegant-scipy/9781491922927/assets/elsp_0105.png)\n",
    "\n",
    "[출처: https://www.oreilly.com/library/view/elegant-scipy/9781491922927/ch01.html ]"
   ]
  },
  {
   "cell_type": "markdown",
   "metadata": {
    "slideshow": {
     "slide_type": "slide"
    }
   },
   "source": [
    "## 넘파이 배열(ndarray)"
   ]
  },
  {
   "cell_type": "markdown",
   "metadata": {
    "slideshow": {
     "slide_type": "fragment"
    }
   },
   "source": [
    "- Numpy에서 제공하는 N 차원 배열 객체\n",
    "- 같은 타입의 값들만 가질 수 있다.\n",
    "- 빠르고 메모리를 효율적으로 사용하며 벡터 연산과 브로드캐스팅 기능을 제공한다. \n",
    "    - 행렬 간의 연산"
   ]
  },
  {
   "cell_type": "markdown",
   "metadata": {
    "heading_collapsed": true
   },
   "source": [
    "### 차원 (dimension)\n",
    "- Vector에서 차원 : 원소의 개수\n",
    "- 넘파이 배열에서 차원 : 축의 개수"
   ]
  },
  {
   "cell_type": "markdown",
   "metadata": {},
   "source": [
    "## 배열 생성 함수\n",
    "### array(배열형태 객체 [, dtype])\n",
    "- 배열형태 객체가 가진 원소들로 구성된 numpy 배열 생성\n",
    "> - 배열형태 객체  (array-like)  \n",
    ">     - 리스트, 튜플, 넘파이배열(ndarray), Series"
   ]
  },
  {
   "cell_type": "markdown",
   "metadata": {
    "slideshow": {
     "slide_type": "slide"
    }
   },
   "source": [
    "### 데이터 타입\n",
    "- 원소들의 데이터 타입\n",
    "- ndarray 는 같은 타입의 데이터만 모아서 관리한다.\n",
    "- 배열 생성시 dtype 속성을 이용해 데이터 타입 설정 가능\n",
    "- ndarray.dtype 속성을 이용해 조회\n",
    "- ndarray.astype(데이터타입)\n",
    "    - 데이터타입 변환하는 메소드\n",
    "    - 변환한 새로운 ndarray객체를 반환\n",
    "    - 원본이 바뀌지는 않는다. 변수에 넣어서 사용해야함.\n",
    "- 타입 지정\n",
    "    - 문자열로 지정\n",
    "        - 'int', 'int64', 'float'\n",
    "    - numpy에 각 타입이 변수로 제공됨\n",
    "        - numpy.int, numpy.int64, numpy.float    "
   ]
  },
  {
   "cell_type": "markdown",
   "metadata": {
    "slideshow": {
     "slide_type": "subslide"
    }
   },
   "source": [
    "![image.png](img/numpy_datatype.png)"
   ]
  },
  {
   "cell_type": "code",
   "execution_count": 15,
   "metadata": {
    "ExecuteTime": {
     "end_time": "2020-08-04T03:43:28.448460Z",
     "start_time": "2020-08-04T03:43:28.442479Z"
    }
   },
   "outputs": [
    {
     "data": {
      "text/plain": [
       "array([1, 2, 3, 4, 5])"
      ]
     },
     "execution_count": 15,
     "metadata": {},
     "output_type": "execute_result"
    }
   ],
   "source": [
    "# 기본적인 배열만들 때\n",
    "a = np.array([1,2,3,4,5])\n",
    "a"
   ]
  },
  {
   "cell_type": "code",
   "execution_count": 6,
   "metadata": {
    "ExecuteTime": {
     "end_time": "2020-08-04T03:38:37.489604Z",
     "start_time": "2020-08-04T03:38:37.483620Z"
    }
   },
   "outputs": [
    {
     "data": {
      "text/plain": [
       "(numpy.ndarray, dtype('int32'))"
      ]
     },
     "execution_count": 6,
     "metadata": {},
     "output_type": "execute_result"
    }
   ],
   "source": [
    "type(a), a.dtype"
   ]
  },
  {
   "cell_type": "code",
   "execution_count": 7,
   "metadata": {
    "ExecuteTime": {
     "end_time": "2020-08-04T03:39:12.684048Z",
     "start_time": "2020-08-04T03:39:12.676103Z"
    }
   },
   "outputs": [
    {
     "data": {
      "text/plain": [
       "array([1., 2., 3., 4., 5.])"
      ]
     },
     "execution_count": 7,
     "metadata": {},
     "output_type": "execute_result"
    }
   ],
   "source": [
    "b = np.array([1,2,3,4,5], dtype='float')\n",
    "b\n",
    "# 결과가 실수로 표기됨."
   ]
  },
  {
   "cell_type": "code",
   "execution_count": 12,
   "metadata": {
    "ExecuteTime": {
     "end_time": "2020-08-04T03:41:10.259582Z",
     "start_time": "2020-08-04T03:41:10.253598Z"
    }
   },
   "outputs": [
    {
     "data": {
      "text/plain": [
       "(1.0, 1.0)"
      ]
     },
     "execution_count": 12,
     "metadata": {},
     "output_type": "execute_result"
    }
   ],
   "source": [
    "1.0, 1."
   ]
  },
  {
   "cell_type": "code",
   "execution_count": 8,
   "metadata": {
    "ExecuteTime": {
     "end_time": "2020-08-04T03:39:48.465834Z",
     "start_time": "2020-08-04T03:39:48.459855Z"
    }
   },
   "outputs": [
    {
     "data": {
      "text/plain": [
       "dtype('float64')"
      ]
     },
     "execution_count": 8,
     "metadata": {},
     "output_type": "execute_result"
    }
   ],
   "source": [
    "b.dtype"
   ]
  },
  {
   "cell_type": "code",
   "execution_count": 9,
   "metadata": {
    "ExecuteTime": {
     "end_time": "2020-08-04T03:40:30.458671Z",
     "start_time": "2020-08-04T03:40:30.451689Z"
    }
   },
   "outputs": [
    {
     "name": "stdout",
     "output_type": "stream",
     "text": [
      "[1. 2. 3. 4. 5.]\n",
      "float64\n"
     ]
    }
   ],
   "source": [
    "c = np.array([1,2,3,4,5.0])\n",
    "print(c)\n",
    "print(c.dtype)\n",
    "# 얘네 전부 가장 큰 타입으로 바꿔서 변환해서 넣어준다."
   ]
  },
  {
   "cell_type": "code",
   "execution_count": 13,
   "metadata": {
    "ExecuteTime": {
     "end_time": "2020-08-04T03:41:42.913264Z",
     "start_time": "2020-08-04T03:41:42.908297Z"
    }
   },
   "outputs": [
    {
     "data": {
      "text/plain": [
       "(5,)"
      ]
     },
     "execution_count": 13,
     "metadata": {},
     "output_type": "execute_result"
    }
   ],
   "source": [
    "# 배열의 shape(형태)를 조회할 때\n",
    "c.shape"
   ]
  },
  {
   "cell_type": "code",
   "execution_count": 14,
   "metadata": {
    "ExecuteTime": {
     "end_time": "2020-08-04T03:43:17.690331Z",
     "start_time": "2020-08-04T03:43:17.684380Z"
    }
   },
   "outputs": [
    {
     "data": {
      "text/plain": [
       "array([[1, 2, 3],\n",
       "       [4, 5, 6]])"
      ]
     },
     "execution_count": 14,
     "metadata": {},
     "output_type": "execute_result"
    }
   ],
   "source": [
    "# 배열 만들기\n",
    "l = [\n",
    "    [1,2,3],\n",
    "    [4,5,6]\n",
    "]\n",
    "\n",
    "d = np.array(l)\n",
    "d"
   ]
  },
  {
   "cell_type": "code",
   "execution_count": 17,
   "metadata": {
    "ExecuteTime": {
     "end_time": "2020-08-04T03:44:15.906954Z",
     "start_time": "2020-08-04T03:44:15.899971Z"
    }
   },
   "outputs": [
    {
     "data": {
      "text/plain": [
       "((2, 3), 2)"
      ]
     },
     "execution_count": 17,
     "metadata": {},
     "output_type": "execute_result"
    }
   ],
   "source": [
    "d.shape, d.ndim\n",
    "# ndim 얘는 축의 갯수를 알려준다\n",
    "# 근데 잘 안씀. 왜냐면 쉐잎쓰면 축이 몇 개인지 알 수 있음."
   ]
  },
  {
   "cell_type": "code",
   "execution_count": 18,
   "metadata": {
    "ExecuteTime": {
     "end_time": "2020-08-04T03:44:57.849320Z",
     "start_time": "2020-08-04T03:44:57.843336Z"
    }
   },
   "outputs": [
    {
     "data": {
      "text/plain": [
       "dtype('int32')"
      ]
     },
     "execution_count": 18,
     "metadata": {},
     "output_type": "execute_result"
    }
   ],
   "source": [
    "d.dtype"
   ]
  },
  {
   "cell_type": "code",
   "execution_count": 19,
   "metadata": {
    "ExecuteTime": {
     "end_time": "2020-08-04T03:45:18.945077Z",
     "start_time": "2020-08-04T03:45:18.940094Z"
    }
   },
   "outputs": [
    {
     "data": {
      "text/plain": [
       "array([[1., 2., 3.],\n",
       "       [4., 5., 6.]])"
      ]
     },
     "execution_count": 19,
     "metadata": {},
     "output_type": "execute_result"
    }
   ],
   "source": [
    "d.astype(np.float)\n",
    "# 이러면 플롯타입으로 바뀜"
   ]
  },
  {
   "cell_type": "code",
   "execution_count": 20,
   "metadata": {
    "ExecuteTime": {
     "end_time": "2020-08-04T03:45:41.177384Z",
     "start_time": "2020-08-04T03:45:41.171401Z"
    }
   },
   "outputs": [
    {
     "data": {
      "text/plain": [
       "array([[1, 2, 3],\n",
       "       [4, 5, 6]])"
      ]
     },
     "execution_count": 20,
     "metadata": {},
     "output_type": "execute_result"
    }
   ],
   "source": [
    "d\n",
    "# 그치만 원본은 안바뀜!!!"
   ]
  },
  {
   "cell_type": "code",
   "execution_count": 21,
   "metadata": {
    "ExecuteTime": {
     "end_time": "2020-08-04T03:46:16.834331Z",
     "start_time": "2020-08-04T03:46:16.827347Z"
    }
   },
   "outputs": [
    {
     "data": {
      "text/plain": [
       "dtype('float64')"
      ]
     },
     "execution_count": 21,
     "metadata": {},
     "output_type": "execute_result"
    }
   ],
   "source": [
    "# 사용하려면 변수에 대입해서 써야함.\n",
    "e = d.astype(np.float)\n",
    "e.dtype"
   ]
  },
  {
   "cell_type": "markdown",
   "metadata": {
    "slideshow": {
     "slide_type": "subslide"
    }
   },
   "source": [
    "### zeros(shape, dtype)\n",
    "영벡터(행렬) 생성 : 원소들을 0으로 채운 배열\n",
    "- shape : 형태(크기, 개수) 지정\n",
    "- dtype : 요소의 개수 지정"
   ]
  },
  {
   "cell_type": "code",
   "execution_count": 23,
   "metadata": {
    "ExecuteTime": {
     "end_time": "2020-08-04T05:15:04.276895Z",
     "start_time": "2020-08-04T05:15:04.271910Z"
    }
   },
   "outputs": [
    {
     "data": {
      "text/plain": [
       "array([0., 0., 0., 0., 0., 0., 0., 0., 0., 0.])"
      ]
     },
     "execution_count": 23,
     "metadata": {},
     "output_type": "execute_result"
    }
   ],
   "source": [
    "a = np.zeros(shape=10) # (10,)\n",
    "a"
   ]
  },
  {
   "cell_type": "code",
   "execution_count": 24,
   "metadata": {
    "ExecuteTime": {
     "end_time": "2020-08-04T05:15:11.044726Z",
     "start_time": "2020-08-04T05:15:11.038747Z"
    }
   },
   "outputs": [
    {
     "data": {
      "text/plain": [
       "(10,)"
      ]
     },
     "execution_count": 24,
     "metadata": {},
     "output_type": "execute_result"
    }
   ],
   "source": [
    "a.shape\n",
    "# 쉐잎 보는게 습관처럼 하는거야. ,가 나오면 아 얘는 벡터구나 열개구나 알 수 있음."
   ]
  },
  {
   "cell_type": "code",
   "execution_count": 28,
   "metadata": {
    "ExecuteTime": {
     "end_time": "2020-08-04T05:17:48.357548Z",
     "start_time": "2020-08-04T05:17:48.351567Z"
    }
   },
   "outputs": [
    {
     "data": {
      "text/plain": [
       "(array([[[0., 0., 0., 0., 0.],\n",
       "         [0., 0., 0., 0., 0.]],\n",
       " \n",
       "        [[0., 0., 0., 0., 0.],\n",
       "         [0., 0., 0., 0., 0.]],\n",
       " \n",
       "        [[0., 0., 0., 0., 0.],\n",
       "         [0., 0., 0., 0., 0.]]]),\n",
       " dtype('float64'))"
      ]
     },
     "execution_count": 28,
     "metadata": {},
     "output_type": "execute_result"
    }
   ],
   "source": [
    "# 축이 여러개인 것을 만들고 싶을 때\n",
    "b = np.zeros(shape=(3,2,5)) # 리스트로 해도 되는데 튜플을 많이 씀.\n",
    "b, b.dtype # 기본 타입은 플롯\n",
    "\n",
    "# np.zeros(shape=(3,2,5), dtype=np.float32) 이렇게 타입도 지정해줄 수 있음."
   ]
  },
  {
   "cell_type": "markdown",
   "metadata": {
    "slideshow": {
     "slide_type": "subslide"
    }
   },
   "source": [
    "### ones(shape, dtype)\n",
    "일벡터 생성 : 원소들을 1로 채운 배열\n",
    "- shape : 형태(크기, 개수) 지정\n",
    "- dtype : 요소의 개수 지정"
   ]
  },
  {
   "cell_type": "code",
   "execution_count": 29,
   "metadata": {
    "ExecuteTime": {
     "end_time": "2020-08-04T05:21:10.058819Z",
     "start_time": "2020-08-04T05:21:10.050841Z"
    }
   },
   "outputs": [
    {
     "data": {
      "text/plain": [
       "array([1., 1., 1., 1., 1., 1., 1., 1., 1., 1.])"
      ]
     },
     "execution_count": 29,
     "metadata": {},
     "output_type": "execute_result"
    }
   ],
   "source": [
    "c = np.ones(shape=10)\n",
    "c"
   ]
  },
  {
   "cell_type": "code",
   "execution_count": 33,
   "metadata": {
    "ExecuteTime": {
     "end_time": "2020-08-04T05:24:08.079197Z",
     "start_time": "2020-08-04T05:24:08.071218Z"
    }
   },
   "outputs": [
    {
     "data": {
      "text/plain": [
       "(array([[1, 1, 1],\n",
       "        [1, 1, 1]]),\n",
       " dtype('int32'))"
      ]
     },
     "execution_count": 33,
     "metadata": {},
     "output_type": "execute_result"
    }
   ],
   "source": [
    "d = np.ones((2,3), dtype='int') # shape은 생략 가능.\n",
    "# 근데 넣어주는게 좋아.\n",
    "d, d.dtype"
   ]
  },
  {
   "cell_type": "markdown",
   "metadata": {},
   "source": [
    "`zeros` `ones` 이 두 개는 기억하기!"
   ]
  },
  {
   "cell_type": "markdown",
   "metadata": {
    "slideshow": {
     "slide_type": "subslide"
    }
   },
   "source": [
    "### full(shape, fill_value, dtype))\n",
    "원소들을 원하는 값으로 채운 배열 생성\n",
    "- shape : 형태(크기, 개수) 지정\n",
    "- fill_vlaue : 채울 값\n",
    "- dtype : 요소의 개수 지정"
   ]
  },
  {
   "cell_type": "code",
   "execution_count": 35,
   "metadata": {
    "ExecuteTime": {
     "end_time": "2020-08-04T05:25:22.429283Z",
     "start_time": "2020-08-04T05:25:22.423335Z"
    }
   },
   "outputs": [
    {
     "data": {
      "text/plain": [
       "array([7, 7, 7, 7, 7, 7, 7, 7, 7, 7])"
      ]
     },
     "execution_count": 35,
     "metadata": {},
     "output_type": "execute_result"
    }
   ],
   "source": [
    "e = np.full(shape=10, fill_value=7)\n",
    "e"
   ]
  },
  {
   "cell_type": "code",
   "execution_count": 38,
   "metadata": {
    "ExecuteTime": {
     "end_time": "2020-08-04T05:25:56.422926Z",
     "start_time": "2020-08-04T05:25:56.414946Z"
    },
    "scrolled": true
   },
   "outputs": [
    {
     "data": {
      "text/plain": [
       "array([[3, 3],\n",
       "       [3, 3],\n",
       "       [3, 3],\n",
       "       [3, 3]])"
      ]
     },
     "execution_count": 38,
     "metadata": {},
     "output_type": "execute_result"
    }
   ],
   "source": [
    "f = np.full(shape=(4,2), fill_value=3)\n",
    "f"
   ]
  },
  {
   "cell_type": "markdown",
   "metadata": {},
   "source": [
    "### xxx_like(ndarray)\n",
    "- xxx = (zeros, ones, full)\n",
    "- 배열의 shape은 매개변수로 받은 배열의 shape을 사용하고 값은 xxx 로 채운다. \n",
    "- shape은 매개변수로 받은 배열의 shape만 쓰겠다 라는 뜻."
   ]
  },
  {
   "cell_type": "code",
   "execution_count": 40,
   "metadata": {
    "ExecuteTime": {
     "end_time": "2020-08-04T05:27:59.461541Z",
     "start_time": "2020-08-04T05:27:59.454561Z"
    }
   },
   "outputs": [
    {
     "data": {
      "text/plain": [
       "(2, 3)"
      ]
     },
     "execution_count": 40,
     "metadata": {},
     "output_type": "execute_result"
    }
   ],
   "source": [
    "d.shape"
   ]
  },
  {
   "cell_type": "code",
   "execution_count": 41,
   "metadata": {
    "ExecuteTime": {
     "end_time": "2020-08-04T05:28:15.701967Z",
     "start_time": "2020-08-04T05:28:15.694952Z"
    }
   },
   "outputs": [
    {
     "data": {
      "text/plain": [
       "array([[1, 1, 1],\n",
       "       [1, 1, 1]])"
      ]
     },
     "execution_count": 41,
     "metadata": {},
     "output_type": "execute_result"
    }
   ],
   "source": [
    "np.ones_like(d)"
   ]
  },
  {
   "cell_type": "code",
   "execution_count": 42,
   "metadata": {
    "ExecuteTime": {
     "end_time": "2020-08-04T05:28:30.091834Z",
     "start_time": "2020-08-04T05:28:30.085848Z"
    }
   },
   "outputs": [
    {
     "data": {
      "text/plain": [
       "array([[0, 0, 0],\n",
       "       [0, 0, 0]])"
      ]
     },
     "execution_count": 42,
     "metadata": {},
     "output_type": "execute_result"
    }
   ],
   "source": [
    "np.zeros_like(d)"
   ]
  },
  {
   "cell_type": "code",
   "execution_count": 43,
   "metadata": {
    "ExecuteTime": {
     "end_time": "2020-08-04T05:28:46.781582Z",
     "start_time": "2020-08-04T05:28:46.775602Z"
    }
   },
   "outputs": [
    {
     "data": {
      "text/plain": [
       "array([[20, 20, 20],\n",
       "       [20, 20, 20]])"
      ]
     },
     "execution_count": 43,
     "metadata": {},
     "output_type": "execute_result"
    }
   ],
   "source": [
    "np.full_like(d, 20)"
   ]
  },
  {
   "cell_type": "markdown",
   "metadata": {},
   "source": [
    "### xxx_like(ndarray)\n",
    "- xxx = (zeros, ones, full)\n",
    "- 배열의 shape은 매개변수로 받은 배열의 shape을 사용하고 값은 xxx 로 채운다. \n",
    "- shape은 매개변수로 받은 배열의 shape만 쓰겠다 라는 뜻."
   ]
  },
  {
   "cell_type": "markdown",
   "metadata": {
    "slideshow": {
     "slide_type": "subslide"
    }
   },
   "source": [
    "`이거 되게 많이 씀`\n",
    "### arange(start, stop, step, dtype)\n",
    "start에서 stop 범위에서 step의 일정한 간격의 값들로 구성된 배열 리턴 \n",
    "- [API](https://docs.scipy.org/doc/numpy-1.15.0/reference/generated/numpy.arange.html)\n",
    "- start : 범위의 시작값으로 포함된다.(생략가능 - 기본값:0)\n",
    "- stop : 범위의 끝값으로 **포함되지 않는다.** (필수)\n",
    "- step : 간격 (기본값 1)\n",
    "- dtype : 요소의 타입\n",
    "\n",
    "1차원 배열 만들 때 씀.\n",
    "형태는 range와 같음."
   ]
  },
  {
   "cell_type": "code",
   "execution_count": 44,
   "metadata": {
    "ExecuteTime": {
     "end_time": "2020-08-04T05:31:46.465963Z",
     "start_time": "2020-08-04T05:31:46.459017Z"
    }
   },
   "outputs": [
    {
     "data": {
      "text/plain": [
       "array([1, 3, 5, 7, 9])"
      ]
     },
     "execution_count": 44,
     "metadata": {},
     "output_type": "execute_result"
    }
   ],
   "source": [
    "np.arange(1,10,2)"
   ]
  },
  {
   "cell_type": "code",
   "execution_count": 45,
   "metadata": {
    "ExecuteTime": {
     "end_time": "2020-08-04T05:32:10.094533Z",
     "start_time": "2020-08-04T05:32:10.087554Z"
    }
   },
   "outputs": [
    {
     "data": {
      "text/plain": [
       "array([1, 2, 3, 4, 5, 6, 7, 8, 9])"
      ]
     },
     "execution_count": 45,
     "metadata": {},
     "output_type": "execute_result"
    }
   ],
   "source": [
    "np.arange(1,10) # step이 생략 => step=1"
   ]
  },
  {
   "cell_type": "code",
   "execution_count": 46,
   "metadata": {
    "ExecuteTime": {
     "end_time": "2020-08-04T05:33:00.213872Z",
     "start_time": "2020-08-04T05:33:00.206892Z"
    }
   },
   "outputs": [
    {
     "data": {
      "text/plain": [
       "array([0, 1, 2, 3, 4, 5, 6, 7, 8, 9])"
      ]
     },
     "execution_count": 46,
     "metadata": {},
     "output_type": "execute_result"
    }
   ],
   "source": [
    "np.arange(10) # start, step 생략 => start=0, step=1"
   ]
  },
  {
   "cell_type": "code",
   "execution_count": 47,
   "metadata": {
    "ExecuteTime": {
     "end_time": "2020-08-04T05:33:31.054633Z",
     "start_time": "2020-08-04T05:33:31.046655Z"
    }
   },
   "outputs": [
    {
     "data": {
      "text/plain": [
       "array([0. , 0.1, 0.2, 0.3, 0.4, 0.5, 0.6, 0.7, 0.8, 0.9])"
      ]
     },
     "execution_count": 47,
     "metadata": {},
     "output_type": "execute_result"
    }
   ],
   "source": [
    "np.arange(0,1,0.1) # 정수가 아니여도 가능. 실수, 음수 등."
   ]
  },
  {
   "cell_type": "markdown",
   "metadata": {
    "slideshow": {
     "slide_type": "subslide"
    }
   },
   "source": [
    "`많이 쓰임`\n",
    "### linspace(start, stop, num=50, endpoint=True, retstep=False, dtype=None)\n",
    "\n",
    "시작과 끝을 균등하게 나눈 값들을 가지는 배열을 생성 \n",
    "- [API](https://docs.scipy.org/doc/numpy-1.15.0/reference/generated/numpy.linspace.html#numpy.linspace)\n",
    "\n",
    "- start : 시작값\n",
    "- stop : 종료값\n",
    "- num : 나눌 개수. 기본-50, 양수 여야한다.\n",
    "- endpoint : stop을 포함시킬 것인지 여부. 기본 True\n",
    "- retstep : 생성된 배열 샘플과 함께 간격(step)도 리턴할지 여부. True일경우 간격도 리턴(sample, step) => 튜플로 받는다.\n",
    "- dtype : 데이터 타입"
   ]
  },
  {
   "cell_type": "code",
   "execution_count": 49,
   "metadata": {
    "ExecuteTime": {
     "end_time": "2020-08-04T05:36:06.934905Z",
     "start_time": "2020-08-04T05:36:06.926926Z"
    }
   },
   "outputs": [
    {
     "data": {
      "text/plain": [
       "array([  1.        ,   3.02040816,   5.04081633,   7.06122449,\n",
       "         9.08163265,  11.10204082,  13.12244898,  15.14285714,\n",
       "        17.16326531,  19.18367347,  21.20408163,  23.2244898 ,\n",
       "        25.24489796,  27.26530612,  29.28571429,  31.30612245,\n",
       "        33.32653061,  35.34693878,  37.36734694,  39.3877551 ,\n",
       "        41.40816327,  43.42857143,  45.44897959,  47.46938776,\n",
       "        49.48979592,  51.51020408,  53.53061224,  55.55102041,\n",
       "        57.57142857,  59.59183673,  61.6122449 ,  63.63265306,\n",
       "        65.65306122,  67.67346939,  69.69387755,  71.71428571,\n",
       "        73.73469388,  75.75510204,  77.7755102 ,  79.79591837,\n",
       "        81.81632653,  83.83673469,  85.85714286,  87.87755102,\n",
       "        89.89795918,  91.91836735,  93.93877551,  95.95918367,\n",
       "        97.97959184, 100.        ])"
      ]
     },
     "execution_count": 49,
     "metadata": {},
     "output_type": "execute_result"
    }
   ],
   "source": [
    "a = np.linspace(1,100)\n",
    "a"
   ]
  },
  {
   "cell_type": "code",
   "execution_count": 51,
   "metadata": {
    "ExecuteTime": {
     "end_time": "2020-08-04T05:37:39.261191Z",
     "start_time": "2020-08-04T05:37:39.255205Z"
    }
   },
   "outputs": [
    {
     "data": {
      "text/plain": [
       "(50,)"
      ]
     },
     "execution_count": 51,
     "metadata": {},
     "output_type": "execute_result"
    }
   ],
   "source": [
    "a.shape"
   ]
  },
  {
   "cell_type": "code",
   "execution_count": 52,
   "metadata": {
    "ExecuteTime": {
     "end_time": "2020-08-04T05:38:02.238325Z",
     "start_time": "2020-08-04T05:38:02.231379Z"
    }
   },
   "outputs": [
    {
     "data": {
      "text/plain": [
       "array([ 1.,  2.,  3.,  4.,  5.,  6.,  7.,  8.,  9., 10.])"
      ]
     },
     "execution_count": 52,
     "metadata": {},
     "output_type": "execute_result"
    }
   ],
   "source": [
    "b = np.linspace(1,10, num=10)\n",
    "b"
   ]
  },
  {
   "cell_type": "code",
   "execution_count": 53,
   "metadata": {
    "ExecuteTime": {
     "end_time": "2020-08-04T05:38:11.379227Z",
     "start_time": "2020-08-04T05:38:11.374241Z"
    }
   },
   "outputs": [
    {
     "data": {
      "text/plain": [
       "(10,)"
      ]
     },
     "execution_count": 53,
     "metadata": {},
     "output_type": "execute_result"
    }
   ],
   "source": [
    "b.shape"
   ]
  },
  {
   "cell_type": "code",
   "execution_count": 55,
   "metadata": {
    "ExecuteTime": {
     "end_time": "2020-08-04T05:38:40.358068Z",
     "start_time": "2020-08-04T05:38:40.351088Z"
    }
   },
   "outputs": [
    {
     "data": {
      "text/plain": [
       "array([1. , 1.9, 2.8, 3.7, 4.6, 5.5, 6.4, 7.3, 8.2, 9.1])"
      ]
     },
     "execution_count": 55,
     "metadata": {},
     "output_type": "execute_result"
    }
   ],
   "source": [
    "c = np.linspace(1,10, num=10, endpoint=False)\n",
    "c"
   ]
  },
  {
   "cell_type": "code",
   "execution_count": 56,
   "metadata": {
    "ExecuteTime": {
     "end_time": "2020-08-04T05:39:22.581062Z",
     "start_time": "2020-08-04T05:39:22.574082Z"
    }
   },
   "outputs": [
    {
     "data": {
      "text/plain": [
       "(array([1. , 1.9, 2.8, 3.7, 4.6, 5.5, 6.4, 7.3, 8.2, 9.1]), 0.9)"
      ]
     },
     "execution_count": 56,
     "metadata": {},
     "output_type": "execute_result"
    }
   ],
   "source": [
    "d = np.linspace(1, 10, num=10, endpoint=False, retstep=True)\n",
    "d"
   ]
  },
  {
   "cell_type": "code",
   "execution_count": null,
   "metadata": {},
   "outputs": [],
   "source": []
  },
  {
   "cell_type": "code",
   "execution_count": null,
   "metadata": {},
   "outputs": [],
   "source": []
  },
  {
   "cell_type": "markdown",
   "metadata": {
    "slideshow": {
     "slide_type": "subslide"
    }
   },
   "source": [
    "### eye(N, M=None, k=0, dtype=<class 'float'>)  /  identity(N)\n",
    "- 항등행렬 생성\n",
    "단위 행렬 생성 \n",
    "- N : 행수\n",
    "- M : 컬럼수\n",
    "- k : 대각선이 시작할 index (첫행의 index를 지정한다. ) 기본값 : 0\n",
    "- [API](https://docs.scipy.org/doc/numpy-1.15.1/reference/generated/numpy.eye.html) \n",
    "> #### 대각행렬\n",
    ">    - 행과 열이 같은 위치를 대각(diagnonal) 이라고 하며 그 대각에만 값이 있고 비대각은 0으로 채워진 행렬.    \n",
    ">\n",
    "> #### 항등행렬/단위행렬\n",
    ">    - 대각의 값이 1인 정방행렬로 $E$나 $I$ 로 표현한다.\n",
    ">    - 단위행렬은 행렬에서 곱셈의 항등원이다\n",
    ">    - 행렬곱셈(내적)에대해서 교환법칙이 성립한다.\n",
    ">         - $A\\cdot E = A$"
   ]
  },
  {
   "cell_type": "code",
   "execution_count": 57,
   "metadata": {
    "ExecuteTime": {
     "end_time": "2020-08-04T05:46:17.748683Z",
     "start_time": "2020-08-04T05:46:17.740708Z"
    }
   },
   "outputs": [
    {
     "data": {
      "text/plain": [
       "array([[1., 0., 0.],\n",
       "       [0., 1., 0.],\n",
       "       [0., 0., 1.]])"
      ]
     },
     "execution_count": 57,
     "metadata": {},
     "output_type": "execute_result"
    }
   ],
   "source": [
    "np.identity(3)"
   ]
  },
  {
   "cell_type": "code",
   "execution_count": 58,
   "metadata": {
    "ExecuteTime": {
     "end_time": "2020-08-04T05:46:37.875594Z",
     "start_time": "2020-08-04T05:46:37.869613Z"
    }
   },
   "outputs": [
    {
     "data": {
      "text/plain": [
       "array([[1., 0., 0., 0., 0.],\n",
       "       [0., 1., 0., 0., 0.],\n",
       "       [0., 0., 1., 0., 0.],\n",
       "       [0., 0., 0., 1., 0.],\n",
       "       [0., 0., 0., 0., 1.]])"
      ]
     },
     "execution_count": 58,
     "metadata": {},
     "output_type": "execute_result"
    }
   ],
   "source": [
    "np.identity(5)"
   ]
  },
  {
   "cell_type": "code",
   "execution_count": 59,
   "metadata": {
    "ExecuteTime": {
     "end_time": "2020-08-04T05:47:06.074959Z",
     "start_time": "2020-08-04T05:47:06.069975Z"
    }
   },
   "outputs": [
    {
     "data": {
      "text/plain": [
       "array([[1., 0., 0., 0., 0.],\n",
       "       [0., 1., 0., 0., 0.],\n",
       "       [0., 0., 1., 0., 0.],\n",
       "       [0., 0., 0., 1., 0.],\n",
       "       [0., 0., 0., 0., 1.]])"
      ]
     },
     "execution_count": 59,
     "metadata": {},
     "output_type": "execute_result"
    }
   ],
   "source": [
    "np.eye(5)"
   ]
  },
  {
   "cell_type": "code",
   "execution_count": 60,
   "metadata": {
    "ExecuteTime": {
     "end_time": "2020-08-04T05:47:31.771094Z",
     "start_time": "2020-08-04T05:47:31.765111Z"
    }
   },
   "outputs": [
    {
     "data": {
      "text/plain": [
       "array([[1., 0., 0.],\n",
       "       [0., 1., 0.],\n",
       "       [0., 0., 1.],\n",
       "       [0., 0., 0.],\n",
       "       [0., 0., 0.]])"
      ]
     },
     "execution_count": 60,
     "metadata": {},
     "output_type": "execute_result"
    }
   ],
   "source": [
    "np.eye(5,3)\n",
    "# eye는 이렇게 행과 열을 따로 지정해줄 수 있다.\n",
    "# identity는 무적권 정방행렬!"
   ]
  },
  {
   "cell_type": "code",
   "execution_count": 61,
   "metadata": {
    "ExecuteTime": {
     "end_time": "2020-08-04T05:48:11.789704Z",
     "start_time": "2020-08-04T05:48:11.781759Z"
    }
   },
   "outputs": [
    {
     "data": {
      "text/plain": [
       "array([[0., 0., 0., 1., 0., 0., 0., 0., 0., 0.],\n",
       "       [0., 0., 0., 0., 1., 0., 0., 0., 0., 0.],\n",
       "       [0., 0., 0., 0., 0., 1., 0., 0., 0., 0.],\n",
       "       [0., 0., 0., 0., 0., 0., 1., 0., 0., 0.],\n",
       "       [0., 0., 0., 0., 0., 0., 0., 1., 0., 0.]])"
      ]
     },
     "execution_count": 61,
     "metadata": {},
     "output_type": "execute_result"
    }
   ],
   "source": [
    "np.eye(5,10,k=3)\n",
    "# k에 3을 주면 세 칸 옆으로 가서 시작한다.\n"
   ]
  },
  {
   "cell_type": "markdown",
   "metadata": {
    "slideshow": {
     "slide_type": "slide"
    }
   },
   "source": [
    "## 난수를 원소로 하는 ndarray 생성\n",
    "\n",
    "- numpy의 서브패키지인 random 패키지에서 제공하는 함수들\n",
    "- np.random.seed(정수) : 시드값 설정"
   ]
  },
  {
   "cell_type": "markdown",
   "metadata": {
    "slideshow": {
     "slide_type": "subslide"
    }
   },
   "source": [
    "### np.random.seed(시드값)\n",
    "- 난수 발생 알고리즘이 사용할 시작값(시드값)을 설정\n",
    "- 시드값을 설정하면 항상 일정한 순서의 난수(random value)가 발생한다.\n",
    "> 랜덤함수는 특정숫자부터 시작하는 일렬의 수열을 만들어 값을 제공하는 함수이다.    \n",
    "> 시작 숫자는 실행할때 마다 바뀌므로 다른 값들이 나오는데 시드값은 시작값을 고정시키면 항상 시작 값이 같으므로 같은 값들이 순서대로 제공된다.    \n",
    "> 매번 실행할때 마다 같은 순서의 임의의 값이(난수) 나오도록 할때 시드값을 설정한다."
   ]
  },
  {
   "cell_type": "markdown",
   "metadata": {
    "slideshow": {
     "slide_type": "fragment"
    }
   },
   "source": [
    "### np.random.rand(axis0[, axis1, axis2, ...])    \n",
    "- [API](https://numpy.org/doc/stable/reference/random/generated/numpy.random.rand.html?highlight=rand#numpy.random.rand)\n",
    "- 0~1사이의 실수를 리턴\n",
    "- 축의 크기는 순서대로 나열한다."
   ]
  },
  {
   "cell_type": "code",
   "execution_count": 62,
   "metadata": {
    "ExecuteTime": {
     "end_time": "2020-08-04T06:22:33.272662Z",
     "start_time": "2020-08-04T06:22:33.264686Z"
    }
   },
   "outputs": [
    {
     "data": {
      "text/plain": [
       "0.8055521483223793"
      ]
     },
     "execution_count": 62,
     "metadata": {},
     "output_type": "execute_result"
    }
   ],
   "source": [
    "np.random.rand() # 0에서 1사이의 숫자가 나옴."
   ]
  },
  {
   "cell_type": "code",
   "execution_count": 65,
   "metadata": {
    "ExecuteTime": {
     "end_time": "2020-08-04T06:23:48.393166Z",
     "start_time": "2020-08-04T06:23:48.386185Z"
    }
   },
   "outputs": [
    {
     "data": {
      "text/plain": [
       "array([[0.5957418 , 0.55432898, 0.97985282],\n",
       "       [0.28515236, 0.13102735, 0.11595145]])"
      ]
     },
     "execution_count": 65,
     "metadata": {},
     "output_type": "execute_result"
    }
   ],
   "source": [
    "np.random.rand(2,3)"
   ]
  },
  {
   "cell_type": "code",
   "execution_count": 92,
   "metadata": {
    "ExecuteTime": {
     "end_time": "2020-08-04T06:27:23.904374Z",
     "start_time": "2020-08-04T06:27:23.899424Z"
    }
   },
   "outputs": [],
   "source": [
    "np.random.seed(10)"
   ]
  },
  {
   "cell_type": "code",
   "execution_count": 87,
   "metadata": {
    "ExecuteTime": {
     "end_time": "2020-08-04T06:27:13.016578Z",
     "start_time": "2020-08-04T06:27:13.010592Z"
    }
   },
   "outputs": [
    {
     "data": {
      "text/plain": [
       "array([[0.77132064, 0.02075195, 0.63364823],\n",
       "       [0.74880388, 0.49850701, 0.22479665]])"
      ]
     },
     "execution_count": 87,
     "metadata": {},
     "output_type": "execute_result"
    }
   ],
   "source": [
    "np.random.rand(2,3)"
   ]
  },
  {
   "cell_type": "code",
   "execution_count": 89,
   "metadata": {
    "ExecuteTime": {
     "end_time": "2020-08-04T06:27:21.682728Z",
     "start_time": "2020-08-04T06:27:21.676742Z"
    }
   },
   "outputs": [
    {
     "data": {
      "text/plain": [
       "array([[0.77132064, 0.02075195, 0.63364823],\n",
       "       [0.74880388, 0.49850701, 0.22479665]])"
      ]
     },
     "execution_count": 89,
     "metadata": {},
     "output_type": "execute_result"
    }
   ],
   "source": [
    "np.random.rand(2,3)"
   ]
  },
  {
   "cell_type": "code",
   "execution_count": 91,
   "metadata": {
    "ExecuteTime": {
     "end_time": "2020-08-04T06:27:21.682728Z",
     "start_time": "2020-08-04T06:27:21.676742Z"
    }
   },
   "outputs": [
    {
     "data": {
      "text/plain": [
       "array([[0.77132064, 0.02075195, 0.63364823],\n",
       "       [0.74880388, 0.49850701, 0.22479665]])"
      ]
     },
     "execution_count": 91,
     "metadata": {},
     "output_type": "execute_result"
    }
   ],
   "source": [
    "np.random.rand(2,3)"
   ]
  },
  {
   "cell_type": "code",
   "execution_count": 93,
   "metadata": {
    "ExecuteTime": {
     "end_time": "2020-08-04T06:27:25.769949Z",
     "start_time": "2020-08-04T06:27:25.763014Z"
    }
   },
   "outputs": [
    {
     "data": {
      "text/plain": [
       "array([[[0.77132064, 0.02075195, 0.63364823, 0.74880388],\n",
       "        [0.49850701, 0.22479665, 0.19806286, 0.76053071],\n",
       "        [0.16911084, 0.08833981, 0.68535982, 0.95339335]],\n",
       "\n",
       "       [[0.00394827, 0.51219226, 0.81262096, 0.61252607],\n",
       "        [0.72175532, 0.29187607, 0.91777412, 0.71457578],\n",
       "        [0.54254437, 0.14217005, 0.37334076, 0.67413362]]])"
      ]
     },
     "execution_count": 93,
     "metadata": {},
     "output_type": "execute_result"
    }
   ],
   "source": [
    "np.random.rand(2,3,4)"
   ]
  },
  {
   "cell_type": "markdown",
   "metadata": {},
   "source": [
    "### np.random.normal(loc=0.0, scale=1.0, size=None) \n",
    "정규분포를 따르는 난수.\n",
    "\n",
    "- [API](https://numpy.org/doc/stable/reference/random/generated/numpy.random.normal.html?highlight=normal#numpy.random.normal)\n",
    "- loc: 평균\n",
    "- scale: 표준편차\n",
    "- loc, scale 생략시 표준정규 분포를 따르는 난수를 제공 \n",
    "> #### 표준정규분포\n",
    "> 평균 : 0, 표준편차 : 1 인 분포"
   ]
  },
  {
   "cell_type": "code",
   "execution_count": 101,
   "metadata": {
    "ExecuteTime": {
     "end_time": "2020-08-04T06:39:05.543177Z",
     "start_time": "2020-08-04T06:39:05.537203Z"
    }
   },
   "outputs": [
    {
     "data": {
      "text/plain": [
       "1.3979963770935753"
      ]
     },
     "execution_count": 101,
     "metadata": {},
     "output_type": "execute_result"
    }
   ],
   "source": [
    "np.random.normal()"
   ]
  },
  {
   "cell_type": "code",
   "execution_count": 108,
   "metadata": {
    "ExecuteTime": {
     "end_time": "2020-08-04T06:40:22.265377Z",
     "start_time": "2020-08-04T06:40:22.258397Z"
    }
   },
   "outputs": [
    {
     "data": {
      "text/plain": [
       "array([[ 2.14173549, -0.25398651,  1.5086069 , -1.18892043,  0.83516843],\n",
       "       [-0.08139495, -0.17750993,  0.79521074,  0.2113417 , -0.86698059],\n",
       "       [-2.24287356,  0.28952733,  0.85840521, -0.57120133, -0.76908312],\n",
       "       [ 1.43816107, -0.92036011,  0.3639972 , -1.37106957, -0.03861396],\n",
       "       [-1.29905236,  0.01244397, -1.87975732, -2.86238165,  0.47232919]])"
      ]
     },
     "execution_count": 108,
     "metadata": {},
     "output_type": "execute_result"
    }
   ],
   "source": [
    "a= np.random.normal(size=(5,5)) # 쉐잎은 튜플로\n",
    "a"
   ]
  },
  {
   "cell_type": "code",
   "execution_count": 109,
   "metadata": {
    "ExecuteTime": {
     "end_time": "2020-08-04T06:40:24.416621Z",
     "start_time": "2020-08-04T06:40:24.409640Z"
    }
   },
   "outputs": [
    {
     "data": {
      "text/plain": [
       "-0.22385032566226054"
      ]
     },
     "execution_count": 109,
     "metadata": {},
     "output_type": "execute_result"
    }
   ],
   "source": [
    "np.mean(a)"
   ]
  },
  {
   "cell_type": "code",
   "execution_count": 125,
   "metadata": {
    "ExecuteTime": {
     "end_time": "2020-08-04T06:41:30.285602Z",
     "start_time": "2020-08-04T06:41:30.281606Z"
    }
   },
   "outputs": [
    {
     "data": {
      "text/plain": [
       "8.2783465789291"
      ]
     },
     "execution_count": 125,
     "metadata": {},
     "output_type": "execute_result"
    }
   ],
   "source": [
    "b = np.random.normal(loc=10, scale=5) # 평균=10, 표준편차=5\n",
    "b"
   ]
  },
  {
   "cell_type": "code",
   "execution_count": 126,
   "metadata": {
    "ExecuteTime": {
     "end_time": "2020-08-04T06:42:18.655209Z",
     "start_time": "2020-08-04T06:42:18.649225Z"
    }
   },
   "outputs": [
    {
     "data": {
      "text/plain": [
       "8.2783465789291"
      ]
     },
     "execution_count": 126,
     "metadata": {},
     "output_type": "execute_result"
    }
   ],
   "source": [
    "np.mean(b)"
   ]
  },
  {
   "cell_type": "code",
   "execution_count": 127,
   "metadata": {
    "ExecuteTime": {
     "end_time": "2020-08-04T06:43:37.353491Z",
     "start_time": "2020-08-04T06:43:37.346513Z"
    }
   },
   "outputs": [
    {
     "data": {
      "text/plain": [
       "array([11.53982252,  7.69457364, 10.57123675, ..., 14.42917849,\n",
       "        9.44068937, 16.35410681])"
      ]
     },
     "execution_count": 127,
     "metadata": {},
     "output_type": "execute_result"
    }
   ],
   "source": [
    "c = np.random.normal(loc=10, scale=2, size=3000)\n",
    "c"
   ]
  },
  {
   "cell_type": "code",
   "execution_count": null,
   "metadata": {},
   "outputs": [],
   "source": []
  },
  {
   "cell_type": "code",
   "execution_count": null,
   "metadata": {},
   "outputs": [],
   "source": []
  },
  {
   "cell_type": "markdown",
   "metadata": {
    "slideshow": {
     "slide_type": "subslide"
    }
   },
   "source": [
    "### np.random.randint(low, high=None, size=None, dtype='l')\n",
    "임의의 정수를 가지는 1차원 배열\n",
    "- [API](https://numpy.org/doc/stable/reference/random/generated/numpy.random.randint.html?highlight=randint#numpy.random.randint)\n",
    "- low ~ high 사이의 정수 리턴. high는 포함안됨\n",
    "- high 생략시 0 ~ low 사이 정수 리턴. low는 포함안됨\n",
    "- size : 배열의 크기. 다차원은 튜플로 지정 기본 1개\n",
    "- dtype : 원소의 타입"
   ]
  },
  {
   "cell_type": "code",
   "execution_count": 134,
   "metadata": {
    "ExecuteTime": {
     "end_time": "2020-08-04T06:48:14.799800Z",
     "start_time": "2020-08-04T06:48:14.792819Z"
    }
   },
   "outputs": [
    {
     "data": {
      "text/plain": [
       "8"
      ]
     },
     "execution_count": 134,
     "metadata": {},
     "output_type": "execute_result"
    }
   ],
   "source": [
    "np.random.randint(1,10)"
   ]
  },
  {
   "cell_type": "code",
   "execution_count": 141,
   "metadata": {
    "ExecuteTime": {
     "end_time": "2020-08-04T06:48:42.248490Z",
     "start_time": "2020-08-04T06:48:42.242509Z"
    }
   },
   "outputs": [
    {
     "data": {
      "text/plain": [
       "1"
      ]
     },
     "execution_count": 141,
     "metadata": {},
     "output_type": "execute_result"
    }
   ],
   "source": [
    "np.random.randint(10) # 0 ~ 9(10-1)"
   ]
  },
  {
   "cell_type": "code",
   "execution_count": 142,
   "metadata": {
    "ExecuteTime": {
     "end_time": "2020-08-04T06:48:58.879927Z",
     "start_time": "2020-08-04T06:48:58.872944Z"
    }
   },
   "outputs": [
    {
     "data": {
      "text/plain": [
       "array([[ 8,  3, 81, 29,  1],\n",
       "       [30, 50, 75, 71, 18],\n",
       "       [ 4, 59, 92, 70, 98],\n",
       "       [92, 36, 52, 45,  7],\n",
       "       [58, 26, 51, 84, 78],\n",
       "       [46, 37, 77, 19, 18],\n",
       "       [62, 48, 15, 77, 70],\n",
       "       [79, 53,  1, 82, 84],\n",
       "       [75, 56, 21, 36, 83],\n",
       "       [44, 35,  7, 74, 13]])"
      ]
     },
     "execution_count": 142,
     "metadata": {},
     "output_type": "execute_result"
    }
   ],
   "source": [
    "np.random.randint(1, 100, size=(10,5)) # 모든 값들이 나올 확률이 동일."
   ]
  },
  {
   "cell_type": "markdown",
   "metadata": {
    "slideshow": {
     "slide_type": "subslide"
    }
   },
   "source": [
    "### np.random.choice(a, size=None, replace=True, p=None)\n",
    "- [API](https://numpy.org/doc/stable/reference/random/generated/numpy.random.choice.html?highlight=choice#numpy.random.choice)\n",
    "- 샘플링 메소드\n",
    "- a : 샘플링대상. 1차원 배열 또는 정수 (정수일 경우 0 ~ 정수, 정수 불포함)\n",
    "- size : 샘플 개수\n",
    "- replace : True-복원추출(기본), False-비복원추출\n",
    "    - 복원 추출시 추출된 것이 다시 추출. 중복 가능. 전체 개수보다 더 뽑을 수도 있음.\n",
    "    - 비복원 추출시 추출된 것이 다시 추출되지 않음\n",
    "- p: 샘플링할 대상 값들이 추출될 확률 지정한 배열"
   ]
  },
  {
   "cell_type": "code",
   "execution_count": 145,
   "metadata": {
    "ExecuteTime": {
     "end_time": "2020-08-04T07:15:27.877593Z",
     "start_time": "2020-08-04T07:15:27.872606Z"
    }
   },
   "outputs": [
    {
     "data": {
      "text/plain": [
       "0"
      ]
     },
     "execution_count": 145,
     "metadata": {},
     "output_type": "execute_result"
    }
   ],
   "source": [
    "np.random.choice(10) # 0 ~ 10-1"
   ]
  },
  {
   "cell_type": "code",
   "execution_count": 146,
   "metadata": {
    "ExecuteTime": {
     "end_time": "2020-08-04T07:15:47.982472Z",
     "start_time": "2020-08-04T07:15:47.976490Z"
    }
   },
   "outputs": [
    {
     "data": {
      "text/plain": [
       "array([1, 9, 8, 0, 5, 6, 0, 0, 5, 3])"
      ]
     },
     "execution_count": 146,
     "metadata": {},
     "output_type": "execute_result"
    }
   ],
   "source": [
    "np.random.choice(10, size=10)"
   ]
  },
  {
   "cell_type": "code",
   "execution_count": 147,
   "metadata": {
    "ExecuteTime": {
     "end_time": "2020-08-04T07:16:10.998973Z",
     "start_time": "2020-08-04T07:16:10.992989Z"
    }
   },
   "outputs": [
    {
     "data": {
      "text/plain": [
       "array([5, 7, 1, 9, 6, 4, 0, 2, 3, 8])"
      ]
     },
     "execution_count": 147,
     "metadata": {},
     "output_type": "execute_result"
    }
   ],
   "source": [
    "np.random.choice(10, size=10, replace=False)"
   ]
  },
  {
   "cell_type": "code",
   "execution_count": 148,
   "metadata": {
    "ExecuteTime": {
     "end_time": "2020-08-04T07:16:55.438947Z",
     "start_time": "2020-08-04T07:16:55.431965Z"
    }
   },
   "outputs": [
    {
     "data": {
      "text/plain": [
       "array([5, 5, 2, 9, 2, 3, 5, 6, 2, 9, 1, 8, 6, 3, 0, 8, 6, 1, 4, 1])"
      ]
     },
     "execution_count": 148,
     "metadata": {},
     "output_type": "execute_result"
    }
   ],
   "source": [
    "np.random.choice(10, size=20) # 복원은 갯수보다 많은 뽑기도 가능."
   ]
  },
  {
   "cell_type": "code",
   "execution_count": 149,
   "metadata": {
    "ExecuteTime": {
     "end_time": "2020-08-04T07:17:28.454076Z",
     "start_time": "2020-08-04T07:17:28.439117Z"
    },
    "scrolled": true
   },
   "outputs": [
    {
     "ename": "ValueError",
     "evalue": "Cannot take a larger sample than population when 'replace=False'",
     "output_type": "error",
     "traceback": [
      "\u001b[1;31m---------------------------------------------------------------------------\u001b[0m",
      "\u001b[1;31mValueError\u001b[0m                                Traceback (most recent call last)",
      "\u001b[1;32m<ipython-input-149-0a24554bdabf>\u001b[0m in \u001b[0;36m<module>\u001b[1;34m\u001b[0m\n\u001b[1;32m----> 1\u001b[1;33m \u001b[0mnp\u001b[0m\u001b[1;33m.\u001b[0m\u001b[0mrandom\u001b[0m\u001b[1;33m.\u001b[0m\u001b[0mchoice\u001b[0m\u001b[1;33m(\u001b[0m\u001b[1;36m10\u001b[0m\u001b[1;33m,\u001b[0m \u001b[0msize\u001b[0m\u001b[1;33m=\u001b[0m\u001b[1;36m20\u001b[0m\u001b[1;33m,\u001b[0m \u001b[0mreplace\u001b[0m\u001b[1;33m=\u001b[0m\u001b[1;32mFalse\u001b[0m\u001b[1;33m)\u001b[0m\u001b[1;33m\u001b[0m\u001b[1;33m\u001b[0m\u001b[0m\n\u001b[0m",
      "\u001b[1;32mmtrand.pyx\u001b[0m in \u001b[0;36mnumpy.random.mtrand.RandomState.choice\u001b[1;34m()\u001b[0m\n",
      "\u001b[1;31mValueError\u001b[0m: Cannot take a larger sample than population when 'replace=False'"
     ]
    }
   ],
   "source": [
    "np.random.choice(10, size=20, replace=False) # 비복원은 갯수보다 많은 뽑기를 하면 에러 발생"
   ]
  },
  {
   "cell_type": "code",
   "execution_count": 160,
   "metadata": {
    "ExecuteTime": {
     "end_time": "2020-08-04T07:18:40.048931Z",
     "start_time": "2020-08-04T07:18:40.041950Z"
    }
   },
   "outputs": [
    {
     "data": {
      "text/plain": [
       "10"
      ]
     },
     "execution_count": 160,
     "metadata": {},
     "output_type": "execute_result"
    }
   ],
   "source": [
    "a = np.array([1, 7, 10])\n",
    "np.random.choice(a)"
   ]
  },
  {
   "cell_type": "code",
   "execution_count": 161,
   "metadata": {
    "ExecuteTime": {
     "end_time": "2020-08-04T07:18:56.670617Z",
     "start_time": "2020-08-04T07:18:56.663636Z"
    }
   },
   "outputs": [
    {
     "data": {
      "text/plain": [
       "array([[ 1,  7, 10, 10,  1, 10,  7],\n",
       "       [ 7, 10,  1,  1,  1, 10, 10],\n",
       "       [ 7,  1,  7, 10,  1, 10, 10]])"
      ]
     },
     "execution_count": 161,
     "metadata": {},
     "output_type": "execute_result"
    }
   ],
   "source": [
    "np.random.choice(a, size=(3,7))"
   ]
  },
  {
   "cell_type": "code",
   "execution_count": 171,
   "metadata": {
    "ExecuteTime": {
     "end_time": "2020-08-04T07:19:47.812070Z",
     "start_time": "2020-08-04T07:19:47.799106Z"
    }
   },
   "outputs": [
    {
     "ename": "ValueError",
     "evalue": "Cannot take a larger sample than population when 'replace=False'",
     "output_type": "error",
     "traceback": [
      "\u001b[1;31m---------------------------------------------------------------------------\u001b[0m",
      "\u001b[1;31mValueError\u001b[0m                                Traceback (most recent call last)",
      "\u001b[1;32m<ipython-input-171-12c0c9d4a99f>\u001b[0m in \u001b[0;36m<module>\u001b[1;34m\u001b[0m\n\u001b[1;32m----> 1\u001b[1;33m \u001b[0mnp\u001b[0m\u001b[1;33m.\u001b[0m\u001b[0mrandom\u001b[0m\u001b[1;33m.\u001b[0m\u001b[0mchoice\u001b[0m\u001b[1;33m(\u001b[0m\u001b[0ma\u001b[0m\u001b[1;33m,\u001b[0m \u001b[0msize\u001b[0m\u001b[1;33m=\u001b[0m\u001b[1;33m(\u001b[0m\u001b[1;36m3\u001b[0m\u001b[1;33m,\u001b[0m\u001b[1;36m5\u001b[0m\u001b[1;33m)\u001b[0m\u001b[1;33m,\u001b[0m \u001b[0mreplace\u001b[0m\u001b[1;33m=\u001b[0m\u001b[1;32mFalse\u001b[0m\u001b[1;33m)\u001b[0m\u001b[1;33m\u001b[0m\u001b[1;33m\u001b[0m\u001b[0m\n\u001b[0m",
      "\u001b[1;32mmtrand.pyx\u001b[0m in \u001b[0;36mnumpy.random.mtrand.RandomState.choice\u001b[1;34m()\u001b[0m\n",
      "\u001b[1;31mValueError\u001b[0m: Cannot take a larger sample than population when 'replace=False'"
     ]
    }
   ],
   "source": [
    "np.random.choice(a, size=(3,5), replace=False)\n",
    "# 비복원 추출 에러"
   ]
  },
  {
   "cell_type": "code",
   "execution_count": 174,
   "metadata": {
    "ExecuteTime": {
     "end_time": "2020-08-04T07:20:33.061443Z",
     "start_time": "2020-08-04T07:20:33.054465Z"
    }
   },
   "outputs": [
    {
     "data": {
      "text/plain": [
       "array([ True, False,  True,  True, False])"
      ]
     },
     "execution_count": 174,
     "metadata": {},
     "output_type": "execute_result"
    }
   ],
   "source": [
    "np.random.choice([True, False], size=5)"
   ]
  },
  {
   "cell_type": "code",
   "execution_count": null,
   "metadata": {},
   "outputs": [],
   "source": []
  },
  {
   "cell_type": "code",
   "execution_count": null,
   "metadata": {},
   "outputs": [],
   "source": []
  },
  {
   "cell_type": "code",
   "execution_count": null,
   "metadata": {},
   "outputs": [],
   "source": []
  }
 ],
 "metadata": {
  "kernelspec": {
   "display_name": "Python 3",
   "language": "python",
   "name": "python3"
  },
  "language_info": {
   "codemirror_mode": {
    "name": "ipython",
    "version": 3
   },
   "file_extension": ".py",
   "mimetype": "text/x-python",
   "name": "python",
   "nbconvert_exporter": "python",
   "pygments_lexer": "ipython3",
   "version": "3.7.6"
  },
  "toc": {
   "base_numbering": 1,
   "nav_menu": {},
   "number_sections": true,
   "sideBar": true,
   "skip_h1_title": true,
   "title_cell": "Table of Contents",
   "title_sidebar": "Contents",
   "toc_cell": true,
   "toc_position": {
    "height": "calc(100% - 180px)",
    "left": "10px",
    "top": "150px",
    "width": "409.6px"
   },
   "toc_section_display": true,
   "toc_window_display": true
  },
  "varInspector": {
   "cols": {
    "lenName": 16,
    "lenType": 16,
    "lenVar": 40
   },
   "kernels_config": {
    "python": {
     "delete_cmd_postfix": "",
     "delete_cmd_prefix": "del ",
     "library": "var_list.py",
     "varRefreshCmd": "print(var_dic_list())"
    },
    "r": {
     "delete_cmd_postfix": ") ",
     "delete_cmd_prefix": "rm(",
     "library": "var_list.r",
     "varRefreshCmd": "cat(var_dic_list()) "
    }
   },
   "types_to_exclude": [
    "module",
    "function",
    "builtin_function_or_method",
    "instance",
    "_Feature"
   ],
   "window_display": false
  }
 },
 "nbformat": 4,
 "nbformat_minor": 2
}
