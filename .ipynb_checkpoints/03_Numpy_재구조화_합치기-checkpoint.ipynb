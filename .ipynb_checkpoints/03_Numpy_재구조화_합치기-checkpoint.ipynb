{
 "cells": [
  {
   "cell_type": "markdown",
   "metadata": {},
   "source": [
    "# 배열의 재구조화와 합치기\n",
    "\n",
    "2020.08.05"
   ]
  },
  {
   "cell_type": "markdown",
   "metadata": {
    "toc": true
   },
   "source": [
    "<h1>Table of Contents<span class=\"tocSkip\"></span></h1>\n",
    "<div class=\"toc\"><ul class=\"toc-item\"><li><span><a href=\"#배열의-재구조화\" data-toc-modified-id=\"배열의-재구조화-1\"><span class=\"toc-item-num\">1&nbsp;&nbsp;</span>배열의 재구조화</a></span><ul class=\"toc-item\"><li><span><a href=\"#np.newaxis-이용해-차원-늘리기\" data-toc-modified-id=\"np.newaxis-이용해-차원-늘리기-1.1\"><span class=\"toc-item-num\">1.1&nbsp;&nbsp;</span>np.newaxis 이용해 차원 늘리기</a></span><ul class=\"toc-item\"><li><span><a href=\"#slicing에-사용한다.\" data-toc-modified-id=\"slicing에-사용한다.-1.1.1\"><span class=\"toc-item-num\">1.1.1&nbsp;&nbsp;</span>slicing에 사용한다.</a></span></li><li><span><a href=\"#indexing에-...-과-같이-사용\" data-toc-modified-id=\"indexing에-...-과-같이-사용-1.1.2\"><span class=\"toc-item-num\">1.1.2&nbsp;&nbsp;</span>indexing에 ... 과 같이 사용</a></span></li></ul></li><li><span><a href=\"#flatten()⭐\" data-toc-modified-id=\"flatten()⭐-1.2\"><span class=\"toc-item-num\">1.2&nbsp;&nbsp;</span>flatten()⭐</a></span></li><li><span><a href=\"#numpy.append(),-numpy.insert(),-numpy.delete()\" data-toc-modified-id=\"numpy.append(),-numpy.insert(),-numpy.delete()-1.3\"><span class=\"toc-item-num\">1.3&nbsp;&nbsp;</span>numpy.append(), numpy.insert(), numpy.delete()</a></span><ul class=\"toc-item\"><li><span><a href=\"#append(배열,-추가할값,-axis=None)\" data-toc-modified-id=\"append(배열,-추가할값,-axis=None)-1.3.1\"><span class=\"toc-item-num\">1.3.1&nbsp;&nbsp;</span>append(배열, 추가할값, axis=None)</a></span></li><li><span><a href=\"#insert(배열,-index,-추가할값,-axis=None)\" data-toc-modified-id=\"insert(배열,-index,-추가할값,-axis=None)-1.3.2\"><span class=\"toc-item-num\">1.3.2&nbsp;&nbsp;</span>insert(배열, index, 추가할값, axis=None)</a></span></li><li><span><a href=\"#delete(배열,-삭제할index,-axis=None)\" data-toc-modified-id=\"delete(배열,-삭제할index,-axis=None)-1.3.3\"><span class=\"toc-item-num\">1.3.3&nbsp;&nbsp;</span>delete(배열, 삭제할index, axis=None)</a></span></li></ul></li></ul></li><li><span><a href=\"#배열-합치기\" data-toc-modified-id=\"배열-합치기-2\"><span class=\"toc-item-num\">2&nbsp;&nbsp;</span>배열 합치기</a></span><ul class=\"toc-item\"><li><span><a href=\"#np.concatenate(합칠-배열리스트,-axis=0)\" data-toc-modified-id=\"np.concatenate(합칠-배열리스트,-axis=0)-2.1\"><span class=\"toc-item-num\">2.1&nbsp;&nbsp;</span>np.concatenate(합칠 배열리스트, axis=0)</a></span></li><li><span><a href=\"#합칠-대상-배열의-rank가-2일-경우(행렬)\" data-toc-modified-id=\"합칠-대상-배열의-rank가-2일-경우(행렬)-2.2\"><span class=\"toc-item-num\">2.2&nbsp;&nbsp;</span>합칠 대상 배열의 rank가 2일 경우(행렬)</a></span><ul class=\"toc-item\"><li><span><a href=\"#vstack(합칠배열리스트)\" data-toc-modified-id=\"vstack(합칠배열리스트)-2.2.1\"><span class=\"toc-item-num\">2.2.1&nbsp;&nbsp;</span>vstack(합칠배열리스트)</a></span></li><li><span><a href=\"#hstack(합칠배열리스트)\" data-toc-modified-id=\"hstack(합칠배열리스트)-2.2.2\"><span class=\"toc-item-num\">2.2.2&nbsp;&nbsp;</span>hstack(합칠배열리스트)</a></span></li></ul></li></ul></li><li><span><a href=\"#배열-분할-하기\" data-toc-modified-id=\"배열-분할-하기-3\"><span class=\"toc-item-num\">3&nbsp;&nbsp;</span>배열 분할 하기</a></span><ul class=\"toc-item\"><li><span><a href=\"#split(배열,-분할기준,-axis)\" data-toc-modified-id=\"split(배열,-분할기준,-axis)-3.1\"><span class=\"toc-item-num\">3.1&nbsp;&nbsp;</span>split(배열, 분할기준, axis)</a></span></li><li><span><a href=\"#vsplit(배열,-분할기준)\" data-toc-modified-id=\"vsplit(배열,-분할기준)-3.2\"><span class=\"toc-item-num\">3.2&nbsp;&nbsp;</span>vsplit(배열, 분할기준)</a></span></li><li><span><a href=\"#hsplit(배열,-분할기준)\" data-toc-modified-id=\"hsplit(배열,-분할기준)-3.3\"><span class=\"toc-item-num\">3.3&nbsp;&nbsp;</span>hsplit(배열, 분할기준)</a></span></li></ul></li><li><span><a href=\"#hsplit()/vsplit()\" data-toc-modified-id=\"hsplit()/vsplit()-4\"><span class=\"toc-item-num\">4&nbsp;&nbsp;</span>hsplit()/vsplit()</a></span></li></ul></div>"
   ]
  },
  {
   "cell_type": "markdown",
   "metadata": {},
   "source": [
    "## 배열의 재구조화\n",
    "- 배열의 차수 변경\n",
    "- `numpy.reshape(a, newshape)` 또는 `ndarray.reshape(newshape)`\n",
    "    - 내가 원하는대로 형태를 변경할 수 있다. 단, 원소의 개수가 같을 때 변경 가능.\n",
    "    - a: 형태를 변경할 배열\n",
    "    - newshape : 변경할 형태 설정. \n",
    "        - 원소의 개수를 유지하는 shape으로만 변환 가능하다."
   ]
  },
  {
   "cell_type": "code",
   "execution_count": 1,
   "metadata": {
    "ExecuteTime": {
     "end_time": "2020-08-05T02:29:16.754008Z",
     "start_time": "2020-08-05T02:29:16.591208Z"
    }
   },
   "outputs": [],
   "source": [
    "import numpy as np"
   ]
  },
  {
   "cell_type": "code",
   "execution_count": 6,
   "metadata": {
    "ExecuteTime": {
     "end_time": "2020-08-05T02:31:25.450718Z",
     "start_time": "2020-08-05T02:31:25.442740Z"
    }
   },
   "outputs": [
    {
     "name": "stdout",
     "output_type": "stream",
     "text": [
      "원소의 개수 : 20 20 shape : (20,)\n"
     ]
    },
    {
     "data": {
      "text/plain": [
       "array([ 0,  1,  2,  3,  4,  5,  6,  7,  8,  9, 10, 11, 12, 13, 14, 15, 16,\n",
       "       17, 18, 19])"
      ]
     },
     "execution_count": 6,
     "metadata": {},
     "output_type": "execute_result"
    }
   ],
   "source": [
    "x = np.arange(20)\n",
    "print('원소의 개수 :', len(x), x.size, 'shape :', x.shape)\n",
    "x"
   ]
  },
  {
   "cell_type": "code",
   "execution_count": 9,
   "metadata": {
    "ExecuteTime": {
     "end_time": "2020-08-05T02:32:42.641222Z",
     "start_time": "2020-08-05T02:32:42.634277Z"
    }
   },
   "outputs": [
    {
     "data": {
      "text/plain": [
       "array([[ 0,  1,  2,  3,  4],\n",
       "       [ 5,  6,  7,  8,  9],\n",
       "       [10, 11, 12, 13, 14],\n",
       "       [15, 16, 17, 18, 19]])"
      ]
     },
     "execution_count": 9,
     "metadata": {},
     "output_type": "execute_result"
    }
   ],
   "source": [
    "r1 = x.reshape((4,5))\n",
    "r1"
   ]
  },
  {
   "cell_type": "code",
   "execution_count": 10,
   "metadata": {
    "ExecuteTime": {
     "end_time": "2020-08-05T02:33:30.641626Z",
     "start_time": "2020-08-05T02:33:30.634644Z"
    },
    "scrolled": true
   },
   "outputs": [
    {
     "data": {
      "text/plain": [
       "array([[ 0,  1,  2,  3,  4],\n",
       "       [ 5,  6,  7,  8,  9],\n",
       "       [10, 11, 12, 13, 14],\n",
       "       [15, 16, 17, 18, 19]])"
      ]
     },
     "execution_count": 10,
     "metadata": {},
     "output_type": "execute_result"
    }
   ],
   "source": [
    "r1 = x.reshape(4,5) # 튜플을 사용하지 않고 나열해도 가능하다.\n",
    "r1"
   ]
  },
  {
   "cell_type": "code",
   "execution_count": 11,
   "metadata": {
    "ExecuteTime": {
     "end_time": "2020-08-05T02:34:27.097358Z",
     "start_time": "2020-08-05T02:34:27.090375Z"
    }
   },
   "outputs": [
    {
     "data": {
      "text/plain": [
       "array([[ 0,  1,  2,  3],\n",
       "       [ 4,  5,  6,  7],\n",
       "       [ 8,  9, 10, 11],\n",
       "       [12, 13, 14, 15],\n",
       "       [16, 17, 18, 19]])"
      ]
     },
     "execution_count": 11,
     "metadata": {},
     "output_type": "execute_result"
    }
   ],
   "source": [
    "# 사용하는 방법 두 가지\n",
    "r2 = np.reshape(x, (5,4))\n",
    "r2"
   ]
  },
  {
   "cell_type": "code",
   "execution_count": 13,
   "metadata": {
    "ExecuteTime": {
     "end_time": "2020-08-05T02:36:11.391003Z",
     "start_time": "2020-08-05T02:36:11.388013Z"
    }
   },
   "outputs": [],
   "source": [
    "# 이건 안되는 거\n",
    "# np.reshape(x,(3,6)) # 에러 발생\n",
    "# x의 원소 수가 20인데 리쉐잎하면 18개\n",
    "# 무적권 같아야된다."
   ]
  },
  {
   "cell_type": "code",
   "execution_count": 16,
   "metadata": {
    "ExecuteTime": {
     "end_time": "2020-08-05T02:38:23.409480Z",
     "start_time": "2020-08-05T02:38:23.402534Z"
    }
   },
   "outputs": [
    {
     "data": {
      "text/plain": [
       "array([[ 0,  1,  2,  3,  4],\n",
       "       [ 5,  6,  7,  8,  9],\n",
       "       [10, 11, 12, 13, 14],\n",
       "       [15, 16, 17, 18, 19]])"
      ]
     },
     "execution_count": 16,
     "metadata": {},
     "output_type": "execute_result"
    }
   ],
   "source": [
    "# 축을 줄 때 앞에는 4를 줄거야. 뒤는 모르겠어\n",
    "x2 = x.reshape(4,-1)\n",
    "# 축의 크기를 정하고 한 축을 -1로 주면 원소수에 맞춰서 알아서 처리한다.\n",
    "# 한 축만 지정한다.\n",
    "x2"
   ]
  },
  {
   "cell_type": "code",
   "execution_count": 20,
   "metadata": {
    "ExecuteTime": {
     "end_time": "2020-08-05T02:39:20.801107Z",
     "start_time": "2020-08-05T02:39:20.794161Z"
    }
   },
   "outputs": [
    {
     "data": {
      "text/plain": [
       "array([[ 0,  1,  2,  3,  4,  5,  6,  7,  8,  9, 10, 11, 12, 13, 14, 15,\n",
       "        16, 17, 18, 19]])"
      ]
     },
     "execution_count": 20,
     "metadata": {},
     "output_type": "execute_result"
    }
   ],
   "source": [
    "x2.reshape(20) # 정수를 주면 1차원으로 만들어준다."
   ]
  },
  {
   "cell_type": "code",
   "execution_count": 21,
   "metadata": {
    "ExecuteTime": {
     "end_time": "2020-08-05T02:39:49.665477Z",
     "start_time": "2020-08-05T02:39:49.658495Z"
    }
   },
   "outputs": [
    {
     "data": {
      "text/plain": [
       "array([ 0,  1,  2,  3,  4,  5,  6,  7,  8,  9, 10, 11, 12, 13, 14, 15, 16,\n",
       "       17, 18, 19])"
      ]
     },
     "execution_count": 21,
     "metadata": {},
     "output_type": "execute_result"
    }
   ],
   "source": [
    "x2.reshape(-1) # 1차원으로 만드는데 니가 알아서 해~"
   ]
  },
  {
   "cell_type": "code",
   "execution_count": null,
   "metadata": {},
   "outputs": [],
   "source": []
  },
  {
   "cell_type": "markdown",
   "metadata": {},
   "source": [
    "### np.newaxis 이용해 차원 늘리기\n",
    "- 단순히 차원을 늘릴때 사용한다. \n",
    "- 지정한 곳에 size 1인 축을 추가한다.\n",
    "- 벡터를 행렬로 바꿀 때사용.\n",
    "\n",
    "#### slicing에 사용한다. "
   ]
  },
  {
   "cell_type": "code",
   "execution_count": 26,
   "metadata": {
    "ExecuteTime": {
     "end_time": "2020-08-05T02:44:11.268873Z",
     "start_time": "2020-08-05T02:44:11.261892Z"
    }
   },
   "outputs": [
    {
     "data": {
      "text/plain": [
       "(20,)"
      ]
     },
     "execution_count": 26,
     "metadata": {},
     "output_type": "execute_result"
    }
   ],
   "source": [
    "x.shape # 20개짜리 벡터를 (20, 1)로 변경해보자"
   ]
  },
  {
   "cell_type": "code",
   "execution_count": 28,
   "metadata": {
    "ExecuteTime": {
     "end_time": "2020-08-05T02:44:46.526849Z",
     "start_time": "2020-08-05T02:44:46.521865Z"
    }
   },
   "outputs": [
    {
     "data": {
      "text/plain": [
       "(array([ 0,  1,  2,  3,  4,  5,  6,  7,  8,  9, 10, 11, 12, 13, 14, 15, 16,\n",
       "        17, 18, 19]),\n",
       " array([ 0,  1,  2,  3,  4,  5,  6,  7,  8,  9, 10, 11, 12, 13, 14, 15, 16,\n",
       "        17, 18, 19]))"
      ]
     },
     "execution_count": 28,
     "metadata": {},
     "output_type": "execute_result"
    }
   ],
   "source": [
    "x, x[:]"
   ]
  },
  {
   "cell_type": "code",
   "execution_count": 30,
   "metadata": {
    "ExecuteTime": {
     "end_time": "2020-08-05T02:45:33.616852Z",
     "start_time": "2020-08-05T02:45:33.609871Z"
    }
   },
   "outputs": [
    {
     "data": {
      "text/plain": [
       "array([[ 0],\n",
       "       [ 1],\n",
       "       [ 2],\n",
       "       [ 3],\n",
       "       [ 4],\n",
       "       [ 5],\n",
       "       [ 6],\n",
       "       [ 7],\n",
       "       [ 8],\n",
       "       [ 9],\n",
       "       [10],\n",
       "       [11],\n",
       "       [12],\n",
       "       [13],\n",
       "       [14],\n",
       "       [15],\n",
       "       [16],\n",
       "       [17],\n",
       "       [18],\n",
       "       [19]])"
      ]
     },
     "execution_count": 30,
     "metadata": {},
     "output_type": "execute_result"
    }
   ],
   "source": [
    "x2 = x[:, np.newaxis]\n",
    "x2"
   ]
  },
  {
   "cell_type": "code",
   "execution_count": 31,
   "metadata": {
    "ExecuteTime": {
     "end_time": "2020-08-05T02:45:58.302860Z",
     "start_time": "2020-08-05T02:45:58.297870Z"
    }
   },
   "outputs": [
    {
     "data": {
      "text/plain": [
       "(20, 1)"
      ]
     },
     "execution_count": 31,
     "metadata": {},
     "output_type": "execute_result"
    }
   ],
   "source": [
    "x2.shape"
   ]
  },
  {
   "cell_type": "code",
   "execution_count": 34,
   "metadata": {
    "ExecuteTime": {
     "end_time": "2020-08-05T02:47:13.126740Z",
     "start_time": "2020-08-05T02:47:13.121755Z"
    }
   },
   "outputs": [
    {
     "data": {
      "text/plain": [
       "(1, 20)"
      ]
     },
     "execution_count": 34,
     "metadata": {},
     "output_type": "execute_result"
    }
   ],
   "source": [
    "x3 = x[np.newaxis, :]\n",
    "x3.shape # (1, 20)"
   ]
  },
  {
   "cell_type": "code",
   "execution_count": 35,
   "metadata": {
    "ExecuteTime": {
     "end_time": "2020-08-05T02:47:33.278807Z",
     "start_time": "2020-08-05T02:47:33.272824Z"
    }
   },
   "outputs": [
    {
     "data": {
      "text/plain": [
       "array([[ 0,  1,  2,  3,  4,  5,  6,  7,  8,  9, 10, 11, 12, 13, 14, 15,\n",
       "        16, 17, 18, 19]])"
      ]
     },
     "execution_count": 35,
     "metadata": {},
     "output_type": "execute_result"
    }
   ],
   "source": [
    "x3 # 축이 두 개다."
   ]
  },
  {
   "cell_type": "code",
   "execution_count": 42,
   "metadata": {
    "ExecuteTime": {
     "end_time": "2020-08-05T02:50:21.265447Z",
     "start_time": "2020-08-05T02:50:21.258467Z"
    }
   },
   "outputs": [
    {
     "data": {
      "text/plain": [
       "(1, 20, 1)"
      ]
     },
     "execution_count": 42,
     "metadata": {},
     "output_type": "execute_result"
    }
   ],
   "source": [
    "# (1, 20, 1) 이렇게 축을 늘리고 싶다.\n",
    "x4 = x3[:,:,np.newaxis]\n",
    "x4.shape"
   ]
  },
  {
   "cell_type": "code",
   "execution_count": 46,
   "metadata": {
    "ExecuteTime": {
     "end_time": "2020-08-05T02:51:26.201182Z",
     "start_time": "2020-08-05T02:51:26.194200Z"
    }
   },
   "outputs": [
    {
     "data": {
      "text/plain": [
       "(1, 1, 20)"
      ]
     },
     "execution_count": 46,
     "metadata": {},
     "output_type": "execute_result"
    }
   ],
   "source": [
    "x3[:,np.newaxis].shape"
   ]
  },
  {
   "cell_type": "code",
   "execution_count": 64,
   "metadata": {
    "ExecuteTime": {
     "end_time": "2020-08-05T03:04:50.412565Z",
     "start_time": "2020-08-05T03:04:50.408575Z"
    }
   },
   "outputs": [],
   "source": [
    "# 기냥 [np.newaxis] 만 넣었을 때는 맨 앞에 축이 추가된다. "
   ]
  },
  {
   "cell_type": "markdown",
   "metadata": {},
   "source": [
    "- x.shape = (2, 3) => (1, 2, 3)\n",
    "```python\n",
    "x[np.newaxis,:,:]\n",
    "```\n",
    "- (2, 3) => (2, 1, 3)\n",
    "```python\n",
    "x[:, np.newaxis, :]\n",
    "```\n",
    "\n"
   ]
  },
  {
   "cell_type": "code",
   "execution_count": 47,
   "metadata": {
    "ExecuteTime": {
     "end_time": "2020-08-05T02:53:29.279499Z",
     "start_time": "2020-08-05T02:53:29.273515Z"
    }
   },
   "outputs": [
    {
     "data": {
      "text/plain": [
       "array([[0, 1, 2, 3, 4],\n",
       "       [5, 6, 7, 8, 9]])"
      ]
     },
     "execution_count": 47,
     "metadata": {},
     "output_type": "execute_result"
    }
   ],
   "source": [
    "a = np.arange(10).reshape(2,5)\n",
    "a"
   ]
  },
  {
   "cell_type": "code",
   "execution_count": 50,
   "metadata": {
    "ExecuteTime": {
     "end_time": "2020-08-05T02:54:07.599050Z",
     "start_time": "2020-08-05T02:54:07.593066Z"
    }
   },
   "outputs": [
    {
     "data": {
      "text/plain": [
       "(2, 1, 5)"
      ]
     },
     "execution_count": 50,
     "metadata": {},
     "output_type": "execute_result"
    }
   ],
   "source": [
    "# (2, 1, 5)\n",
    "a2 = a[:,np.newaxis]\n",
    "a2.shape\n",
    "# 보통 양 끝을 늘린다. 양 끝에 축을 추가한다.\n",
    "# 중간 추가는 잘 안함."
   ]
  },
  {
   "cell_type": "markdown",
   "metadata": {},
   "source": [
    "#### indexing에 ... 과 같이 사용\n",
    "- ndarray[..., np.newaxis]\n",
    "- 첫번째 축이나 마지막 축을 늘릴때만 사용가능"
   ]
  },
  {
   "cell_type": "code",
   "execution_count": 51,
   "metadata": {
    "ExecuteTime": {
     "end_time": "2020-08-05T02:56:14.578007Z",
     "start_time": "2020-08-05T02:56:14.572024Z"
    }
   },
   "outputs": [
    {
     "data": {
      "text/plain": [
       "(20,)"
      ]
     },
     "execution_count": 51,
     "metadata": {},
     "output_type": "execute_result"
    }
   ],
   "source": [
    "# (20,) -> (1, 20)\n",
    "x.shape"
   ]
  },
  {
   "cell_type": "code",
   "execution_count": 57,
   "metadata": {
    "ExecuteTime": {
     "end_time": "2020-08-05T02:58:35.320036Z",
     "start_time": "2020-08-05T02:58:35.313053Z"
    }
   },
   "outputs": [
    {
     "data": {
      "text/plain": [
       "(1, 20)"
      ]
     },
     "execution_count": 57,
     "metadata": {},
     "output_type": "execute_result"
    }
   ],
   "source": [
    "# x[np.newaxis, :].shape\n",
    "x1 = x[np.newaxis, ...]\n",
    "x1.shape"
   ]
  },
  {
   "cell_type": "code",
   "execution_count": 58,
   "metadata": {
    "ExecuteTime": {
     "end_time": "2020-08-05T02:59:35.608615Z",
     "start_time": "2020-08-05T02:59:35.602631Z"
    }
   },
   "outputs": [
    {
     "data": {
      "text/plain": [
       "(1, 20, 1)"
      ]
     },
     "execution_count": 58,
     "metadata": {},
     "output_type": "execute_result"
    }
   ],
   "source": [
    "# (1, 20) => (1, 20, 1)\n",
    "x2 = x1[..., np.newaxis]\n",
    "x2.shape"
   ]
  },
  {
   "cell_type": "code",
   "execution_count": null,
   "metadata": {},
   "outputs": [],
   "source": []
  },
  {
   "cell_type": "markdown",
   "metadata": {},
   "source": [
    "### flatten()⭐\n",
    "- 다차원 배열을 1차원으로 만든다."
   ]
  },
  {
   "cell_type": "code",
   "execution_count": 22,
   "metadata": {
    "ExecuteTime": {
     "end_time": "2020-08-05T02:40:50.075409Z",
     "start_time": "2020-08-05T02:40:50.069426Z"
    }
   },
   "outputs": [
    {
     "data": {
      "text/plain": [
       "array([ 0,  1,  2,  3,  4,  5,  6,  7,  8,  9, 10, 11, 12, 13, 14, 15, 16,\n",
       "       17, 18, 19])"
      ]
     },
     "execution_count": 22,
     "metadata": {},
     "output_type": "execute_result"
    }
   ],
   "source": [
    "x2.flatten()"
   ]
  },
  {
   "cell_type": "code",
   "execution_count": 24,
   "metadata": {
    "ExecuteTime": {
     "end_time": "2020-08-05T02:41:56.840873Z",
     "start_time": "2020-08-05T02:41:56.833889Z"
    }
   },
   "outputs": [
    {
     "data": {
      "text/plain": [
       "array([[[ 0,  1,  2,  3],\n",
       "        [ 4,  5,  6,  7],\n",
       "        [ 8,  9, 10, 11]],\n",
       "\n",
       "       [[12, 13, 14, 15],\n",
       "        [16, 17, 18, 19],\n",
       "        [20, 21, 22, 23]],\n",
       "\n",
       "       [[24, 25, 26, 27],\n",
       "        [28, 29, 30, 31],\n",
       "        [32, 33, 34, 35]]])"
      ]
     },
     "execution_count": 24,
     "metadata": {},
     "output_type": "execute_result"
    }
   ],
   "source": [
    "# a = np.arange(36).reshape(3,3,4)\n",
    "a = np.arange(3*3*4).reshape(3,3,4) # 이런 잡기술도 가능.\n",
    "a"
   ]
  },
  {
   "cell_type": "code",
   "execution_count": 25,
   "metadata": {
    "ExecuteTime": {
     "end_time": "2020-08-05T02:42:19.664299Z",
     "start_time": "2020-08-05T02:42:19.658353Z"
    }
   },
   "outputs": [
    {
     "data": {
      "text/plain": [
       "array([ 0,  1,  2,  3,  4,  5,  6,  7,  8,  9, 10, 11, 12, 13, 14, 15, 16,\n",
       "       17, 18, 19, 20, 21, 22, 23, 24, 25, 26, 27, 28, 29, 30, 31, 32, 33,\n",
       "       34, 35])"
      ]
     },
     "execution_count": 25,
     "metadata": {},
     "output_type": "execute_result"
    }
   ],
   "source": [
    "a.flatten()"
   ]
  },
  {
   "cell_type": "markdown",
   "metadata": {},
   "source": [
    "### numpy.append(), numpy.insert(), numpy.delete()"
   ]
  },
  {
   "cell_type": "markdown",
   "metadata": {},
   "source": [
    "#### append(배열, 추가할값, axis=None)\n",
    "- 배열의 마지막 index에 추가할값을 추가\n",
    "- axis : 축 지정\n",
    "    - None(기본값) : flatten 한 뒤 추가한다."
   ]
  },
  {
   "cell_type": "markdown",
   "metadata": {},
   "source": [
    "- append()"
   ]
  },
  {
   "cell_type": "code",
   "execution_count": 65,
   "metadata": {
    "ExecuteTime": {
     "end_time": "2020-08-05T03:28:04.667806Z",
     "start_time": "2020-08-05T03:28:04.660826Z"
    }
   },
   "outputs": [
    {
     "data": {
      "text/plain": [
       "(3,)"
      ]
     },
     "execution_count": 65,
     "metadata": {},
     "output_type": "execute_result"
    }
   ],
   "source": [
    "a = np.array([1,2,3])\n",
    "a.shape"
   ]
  },
  {
   "cell_type": "code",
   "execution_count": 71,
   "metadata": {
    "ExecuteTime": {
     "end_time": "2020-08-05T03:30:51.997580Z",
     "start_time": "2020-08-05T03:30:51.991597Z"
    }
   },
   "outputs": [
    {
     "name": "stdout",
     "output_type": "stream",
     "text": [
      "(4,)\n"
     ]
    },
    {
     "data": {
      "text/plain": [
       "array([  1,   2,   3, 800])"
      ]
     },
     "execution_count": 71,
     "metadata": {},
     "output_type": "execute_result"
    }
   ],
   "source": [
    "r1 = np.append(a, 800) # 원본은 바뀌지 않음.\n",
    "print(r1.shape)\n",
    "r1"
   ]
  },
  {
   "cell_type": "code",
   "execution_count": 72,
   "metadata": {
    "ExecuteTime": {
     "end_time": "2020-08-05T03:30:53.007564Z",
     "start_time": "2020-08-05T03:30:52.999587Z"
    }
   },
   "outputs": [
    {
     "name": "stdout",
     "output_type": "stream",
     "text": [
      "(6,)\n"
     ]
    },
    {
     "data": {
      "text/plain": [
       "array([  1,   2,   3, 100, 200, 300])"
      ]
     },
     "execution_count": 72,
     "metadata": {},
     "output_type": "execute_result"
    }
   ],
   "source": [
    "r2 = np.append(a, [100,200,300])\n",
    "print(r2.shape)\n",
    "r2"
   ]
  },
  {
   "cell_type": "code",
   "execution_count": 74,
   "metadata": {
    "ExecuteTime": {
     "end_time": "2020-08-05T03:31:39.367023Z",
     "start_time": "2020-08-05T03:31:39.364031Z"
    }
   },
   "outputs": [],
   "source": [
    "# 안되는 거\n",
    "# a.append(10) # 에러발생"
   ]
  },
  {
   "cell_type": "code",
   "execution_count": 75,
   "metadata": {
    "ExecuteTime": {
     "end_time": "2020-08-05T03:32:28.665857Z",
     "start_time": "2020-08-05T03:32:28.656888Z"
    }
   },
   "outputs": [
    {
     "name": "stdout",
     "output_type": "stream",
     "text": [
      "(3, 2)\n"
     ]
    },
    {
     "data": {
      "text/plain": [
       "array([[1, 1],\n",
       "       [2, 2],\n",
       "       [3, 3]])"
      ]
     },
     "execution_count": 75,
     "metadata": {},
     "output_type": "execute_result"
    }
   ],
   "source": [
    "# 2차원으로\n",
    "l = [\n",
    "    [1, 1],\n",
    "    [2, 2],\n",
    "    [3, 3]\n",
    "]\n",
    "b = np.array(l)\n",
    "print(b.shape)\n",
    "b"
   ]
  },
  {
   "cell_type": "code",
   "execution_count": 83,
   "metadata": {
    "ExecuteTime": {
     "end_time": "2020-08-05T03:35:21.926965Z",
     "start_time": "2020-08-05T03:35:21.919021Z"
    }
   },
   "outputs": [
    {
     "data": {
      "text/plain": [
       "array([[1, 1],\n",
       "       [2, 2],\n",
       "       [3, 3],\n",
       "       [4, 4],\n",
       "       [5, 5]])"
      ]
     },
     "execution_count": 83,
     "metadata": {},
     "output_type": "execute_result"
    }
   ],
   "source": [
    "# 0번 축에 추가하고 싶을 때\n",
    "np.append(b, [[4, 4]], axis=0)\n",
    "# [] 잘 감싸줘야 해. 축 기본 값일 때는 [4, 4]도 가능\n",
    "# 축 지정해주면 [[4, 4]] \n",
    "np.append(b, [[4, 4], [5, 5]], axis=0) # 두 개도 추가 가능~\n"
   ]
  },
  {
   "cell_type": "code",
   "execution_count": 85,
   "metadata": {
    "ExecuteTime": {
     "end_time": "2020-08-05T03:38:28.220470Z",
     "start_time": "2020-08-05T03:38:28.213489Z"
    },
    "scrolled": true
   },
   "outputs": [
    {
     "data": {
      "text/plain": [
       "array([[1, 1, 4, 4],\n",
       "       [2, 2, 5, 5],\n",
       "       [3, 3, 6, 6]])"
      ]
     },
     "execution_count": 85,
     "metadata": {},
     "output_type": "execute_result"
    }
   ],
   "source": [
    "# 1번 축에 추가해보자\n",
    "np.append(b, [[4], [5], [6]], axis=1) \n",
    "# 하나씩 지정해줘야 함.\n",
    "\n",
    "np.append(b, [[4, 4], [5, 5], [6, 6]], axis=1) # 이렇게 더 붙여줄 수도 있어"
   ]
  },
  {
   "cell_type": "markdown",
   "metadata": {},
   "source": [
    "#### insert(배열, index, 추가할값, axis=None)\n",
    "- 배열의 index에 추가할값을 추가. \n",
    "- axis : 축 지정\n",
    "    - None(기본값) : flatten 한 뒤 삽입한다."
   ]
  },
  {
   "cell_type": "markdown",
   "metadata": {},
   "source": [
    "- insert"
   ]
  },
  {
   "cell_type": "code",
   "execution_count": 86,
   "metadata": {
    "ExecuteTime": {
     "end_time": "2020-08-05T03:39:49.092437Z",
     "start_time": "2020-08-05T03:39:49.086453Z"
    }
   },
   "outputs": [
    {
     "data": {
      "text/plain": [
       "array([808,   1,   2,   3])"
      ]
     },
     "execution_count": 86,
     "metadata": {},
     "output_type": "execute_result"
    }
   ],
   "source": [
    "np.insert(a, 0, 808)"
   ]
  },
  {
   "cell_type": "code",
   "execution_count": 88,
   "metadata": {
    "ExecuteTime": {
     "end_time": "2020-08-05T03:40:53.060348Z",
     "start_time": "2020-08-05T03:40:53.053400Z"
    }
   },
   "outputs": [
    {
     "data": {
      "text/plain": [
       "array([801, 802, 803,   1,   2,   3])"
      ]
     },
     "execution_count": 88,
     "metadata": {},
     "output_type": "execute_result"
    }
   ],
   "source": [
    "# 여러개 값을 한 번에 인설트 할 때\n",
    "np.insert(a, 0, [801, 802, 803])"
   ]
  },
  {
   "cell_type": "code",
   "execution_count": 89,
   "metadata": {
    "ExecuteTime": {
     "end_time": "2020-08-05T03:41:12.652024Z",
     "start_time": "2020-08-05T03:41:12.646040Z"
    }
   },
   "outputs": [
    {
     "data": {
      "text/plain": [
       "array([[1, 1],\n",
       "       [2, 2],\n",
       "       [3, 3]])"
      ]
     },
     "execution_count": 89,
     "metadata": {},
     "output_type": "execute_result"
    }
   ],
   "source": [
    "b"
   ]
  },
  {
   "cell_type": "code",
   "execution_count": 93,
   "metadata": {
    "ExecuteTime": {
     "end_time": "2020-08-05T03:42:12.747899Z",
     "start_time": "2020-08-05T03:42:12.741915Z"
    },
    "scrolled": true
   },
   "outputs": [
    {
     "data": {
      "text/plain": [
       "array([[1, 1],\n",
       "       [8, 8],\n",
       "       [2, 2],\n",
       "       [3, 3]])"
      ]
     },
     "execution_count": 93,
     "metadata": {},
     "output_type": "execute_result"
    }
   ],
   "source": [
    "# 2차원에 인설트 해보기\n",
    "np.insert(b, 1, [8,8], axis=0)"
   ]
  },
  {
   "cell_type": "code",
   "execution_count": 95,
   "metadata": {
    "ExecuteTime": {
     "end_time": "2020-08-05T03:43:16.996777Z",
     "start_time": "2020-08-05T03:43:16.990793Z"
    }
   },
   "outputs": [
    {
     "data": {
      "text/plain": [
       "array([[1, 1],\n",
       "       [8, 8],\n",
       "       [2, 2],\n",
       "       [3, 3]])"
      ]
     },
     "execution_count": 95,
     "metadata": {},
     "output_type": "execute_result"
    }
   ],
   "source": [
    "# 같은 값을 넣을 때는 숫자 하나만 줘도 가능합니다.\n",
    "np.insert(b, 1, 8, axis=0)"
   ]
  },
  {
   "cell_type": "code",
   "execution_count": 98,
   "metadata": {
    "ExecuteTime": {
     "end_time": "2020-08-05T03:44:56.884133Z",
     "start_time": "2020-08-05T03:44:56.878149Z"
    },
    "scrolled": true
   },
   "outputs": [
    {
     "data": {
      "text/plain": [
       "array([[ 1,  8,  1],\n",
       "       [ 2,  9,  2],\n",
       "       [ 3, 10,  3]])"
      ]
     },
     "execution_count": 98,
     "metadata": {},
     "output_type": "execute_result"
    }
   ],
   "source": [
    "# 1번 축에 인설트해보기\n",
    "# np.insert(b, 1, 8, axis=1)\n",
    "np.insert(b, 1, [8,9,10], axis=1)"
   ]
  },
  {
   "cell_type": "markdown",
   "metadata": {},
   "source": [
    "#### delete(배열, 삭제할index, axis=None)  \n",
    "- 배열의 삭제할index의 값들을 삭제한다.\n",
    "- 삭제할 index는 index 또는 slice\n",
    "- axis : 축 지정\n",
    "    - None(기본값) : flatten 한 뒤 삭제한다."
   ]
  },
  {
   "cell_type": "markdown",
   "metadata": {},
   "source": [
    "- delete"
   ]
  },
  {
   "cell_type": "code",
   "execution_count": 99,
   "metadata": {
    "ExecuteTime": {
     "end_time": "2020-08-05T05:15:45.111677Z",
     "start_time": "2020-08-05T05:15:45.105689Z"
    }
   },
   "outputs": [
    {
     "data": {
      "text/plain": [
       "array([0, 1, 2, 3, 4, 5, 6, 7, 8, 9])"
      ]
     },
     "execution_count": 99,
     "metadata": {},
     "output_type": "execute_result"
    }
   ],
   "source": [
    "a = np.arange(10)\n",
    "a"
   ]
  },
  {
   "cell_type": "code",
   "execution_count": 100,
   "metadata": {
    "ExecuteTime": {
     "end_time": "2020-08-05T05:16:10.767662Z",
     "start_time": "2020-08-05T05:16:10.761678Z"
    }
   },
   "outputs": [
    {
     "data": {
      "text/plain": [
       "array([1, 2, 3, 4, 5, 6, 7, 8, 9])"
      ]
     },
     "execution_count": 100,
     "metadata": {},
     "output_type": "execute_result"
    }
   ],
   "source": [
    "np.delete(a, 0) # a의 0번 index 값을 삭제\n",
    "# 물론 원본은 변하지 않음."
   ]
  },
  {
   "cell_type": "code",
   "execution_count": 101,
   "metadata": {
    "ExecuteTime": {
     "end_time": "2020-08-05T05:16:37.956720Z",
     "start_time": "2020-08-05T05:16:37.950736Z"
    }
   },
   "outputs": [
    {
     "data": {
      "text/plain": [
       "array([1, 2, 4, 5, 6, 7, 9])"
      ]
     },
     "execution_count": 101,
     "metadata": {},
     "output_type": "execute_result"
    }
   ],
   "source": [
    "# 여러개 지울 때\n",
    "np.delete(a, [0,3,8]) # 0, 3, 8 index 값을 삭제"
   ]
  },
  {
   "cell_type": "code",
   "execution_count": 103,
   "metadata": {
    "ExecuteTime": {
     "end_time": "2020-08-05T05:21:46.023969Z",
     "start_time": "2020-08-05T05:21:46.017029Z"
    }
   },
   "outputs": [
    {
     "data": {
      "text/plain": [
       "array([0, 2, 4, 6, 8])"
      ]
     },
     "execution_count": 103,
     "metadata": {},
     "output_type": "execute_result"
    }
   ],
   "source": [
    "# slicing으로 삭제할 index 지정해주기\n",
    "# [1:5] 이것만 단독으로 사용할 수 없음.\n",
    "\n",
    "np.delete(a, a[1::2]) # 이건 되네?\n",
    "# 이거 되는 거 아니야. 숫자가 01234라서 된거야.\n",
    "\n",
    "# 그래서 np.s_[1::2] 를 사용한다. \n",
    "# 슬라이싱 객체로 만들어줌\n",
    "# 슬라이스 객체 numpy.s_[slicing]\n",
    "np.delete(a, np.s_[1::2])"
   ]
  },
  {
   "cell_type": "code",
   "execution_count": 105,
   "metadata": {
    "ExecuteTime": {
     "end_time": "2020-08-05T05:23:05.027796Z",
     "start_time": "2020-08-05T05:23:05.019817Z"
    }
   },
   "outputs": [
    {
     "name": "stdout",
     "output_type": "stream",
     "text": [
      "(5, 4)\n"
     ]
    },
    {
     "data": {
      "text/plain": [
       "array([[ 0,  1,  2,  3],\n",
       "       [ 4,  5,  6,  7],\n",
       "       [ 8,  9, 10, 11],\n",
       "       [12, 13, 14, 15],\n",
       "       [16, 17, 18, 19]])"
      ]
     },
     "execution_count": 105,
     "metadata": {},
     "output_type": "execute_result"
    }
   ],
   "source": [
    "# 2차원에서 삭제\n",
    "\n",
    "b = np.arange(5*4).reshape(5,4)\n",
    "print(b.shape)\n",
    "b"
   ]
  },
  {
   "cell_type": "code",
   "execution_count": 108,
   "metadata": {
    "ExecuteTime": {
     "end_time": "2020-08-05T05:24:30.109285Z",
     "start_time": "2020-08-05T05:24:30.103301Z"
    }
   },
   "outputs": [
    {
     "data": {
      "text/plain": [
       "array([ 0,  1,  2,  3,  4,  5,  6,  7,  8,  9, 11, 12, 13, 14, 15, 16, 17,\n",
       "       18, 19])"
      ]
     },
     "execution_count": 108,
     "metadata": {},
     "output_type": "execute_result"
    }
   ],
   "source": [
    "np.delete(b, 10) # axis=None -> flatten 후 삭제\n",
    "# 액시스를 주지 않으면 1차원으로 만든 다음에 처리"
   ]
  },
  {
   "cell_type": "code",
   "execution_count": 113,
   "metadata": {
    "ExecuteTime": {
     "end_time": "2020-08-05T05:26:21.010748Z",
     "start_time": "2020-08-05T05:26:21.002770Z"
    }
   },
   "outputs": [
    {
     "data": {
      "text/plain": [
       "array([[ 4,  5,  6,  7],\n",
       "       [12, 13, 14, 15]])"
      ]
     },
     "execution_count": 113,
     "metadata": {},
     "output_type": "execute_result"
    }
   ],
   "source": [
    "np.delete(b, 1, axis=0) # 0번축 1번 인덱스를 지울 때\n",
    "np.delete(b, [1,3], axis=0)\n",
    "\n",
    "np.delete(b, np.s_[::2], axis=0)"
   ]
  },
  {
   "cell_type": "code",
   "execution_count": 118,
   "metadata": {
    "ExecuteTime": {
     "end_time": "2020-08-05T05:29:30.329483Z",
     "start_time": "2020-08-05T05:29:30.322501Z"
    },
    "scrolled": true
   },
   "outputs": [
    {
     "data": {
      "text/plain": [
       "array([[ 0,  1],\n",
       "       [ 4,  5],\n",
       "       [ 8,  9],\n",
       "       [12, 13],\n",
       "       [16, 17]])"
      ]
     },
     "execution_count": 118,
     "metadata": {},
     "output_type": "execute_result"
    }
   ],
   "source": [
    "np.delete(b, 1, axis=1)\n",
    "\n",
    "# 여러개 지울 때\n",
    "np.delete(b, [1,2], axis=1)\n",
    "\n",
    "# 슬라이싱으로 지울 때\n",
    "np.delete(b, np.s_[2:], axis=1)"
   ]
  },
  {
   "cell_type": "code",
   "execution_count": null,
   "metadata": {},
   "outputs": [],
   "source": []
  },
  {
   "cell_type": "code",
   "execution_count": null,
   "metadata": {},
   "outputs": [],
   "source": []
  },
  {
   "cell_type": "code",
   "execution_count": null,
   "metadata": {},
   "outputs": [],
   "source": []
  },
  {
   "cell_type": "code",
   "execution_count": null,
   "metadata": {},
   "outputs": [],
   "source": []
  },
  {
   "cell_type": "code",
   "execution_count": null,
   "metadata": {},
   "outputs": [],
   "source": []
  },
  {
   "cell_type": "markdown",
   "metadata": {},
   "source": [
    "## 배열 합치기\n",
    "조인이랑 비슷하지만 다르다. 단순하게 붙임.\n",
    "축의 사이즈가 바뀌는거지 개수가 바뀌지는 않는다."
   ]
  },
  {
   "cell_type": "markdown",
   "metadata": {},
   "source": [
    "### np.concatenate(합칠 배열리스트, axis=0)\n",
    "- 여러 배열을 **축의개수(rank)**를 유지하며 합친다.\n",
    "- axis 파라미터 : 축지정\n",
    "    - 지정된 축을 기준으로 합친다. \n",
    "    - default : 0\n",
    "- 합치는 배열의 축의 개수(rank)는 같아야 한다.\n",
    "- axis속성으로 지정한 축을 이외의 축의 크기가 같아야 한다.\n",
    "- 결과의 축의개수(rank)는 대상 배열의 rank와 같다.\n",
    "    - 1차원끼리 합치면 1차원결과가 나옴"
   ]
  },
  {
   "cell_type": "markdown",
   "metadata": {},
   "source": [
    "- concatenate()"
   ]
  },
  {
   "cell_type": "code",
   "execution_count": 121,
   "metadata": {
    "ExecuteTime": {
     "end_time": "2020-08-05T06:08:35.194724Z",
     "start_time": "2020-08-05T06:08:35.187746Z"
    }
   },
   "outputs": [
    {
     "data": {
      "text/plain": [
       "(array([0, 1, 2, 3, 4, 5, 6, 7, 8, 9]),\n",
       " array([0, 1, 2, 3, 4]),\n",
       " array([0, 1, 2, 3, 4, 5, 6]))"
      ]
     },
     "execution_count": 121,
     "metadata": {},
     "output_type": "execute_result"
    }
   ],
   "source": [
    "a = np.arange(10)\n",
    "b = np.arange(5)\n",
    "c = np.arange(7)\n",
    "\n",
    "a, b, c"
   ]
  },
  {
   "cell_type": "code",
   "execution_count": 129,
   "metadata": {
    "ExecuteTime": {
     "end_time": "2020-08-05T06:11:37.637277Z",
     "start_time": "2020-08-05T06:11:37.628304Z"
    }
   },
   "outputs": [
    {
     "name": "stdout",
     "output_type": "stream",
     "text": [
      "(15,)\n",
      "(22,)\n"
     ]
    },
    {
     "data": {
      "text/plain": [
       "array([0, 1, 2, 3, 4, 5, 6, 7, 8, 9, 0, 1, 2, 3, 4])"
      ]
     },
     "execution_count": 129,
     "metadata": {},
     "output_type": "execute_result"
    }
   ],
   "source": [
    "# 1차원 배열 합치기\n",
    "r1 = np.concatenate([a,b])\n",
    "print(r1.shape)\n",
    "r1\n",
    "\n",
    "# 1차원 여러 배열 붙이기\n",
    "r2 = np.concatenate([a,b,c])\n",
    "print(r2.shape)\n",
    "r2\n",
    "\n",
    "# 1차원은 append로도 가능\n",
    "np.append(a,b)"
   ]
  },
  {
   "cell_type": "code",
   "execution_count": 131,
   "metadata": {
    "ExecuteTime": {
     "end_time": "2020-08-05T06:13:07.660706Z",
     "start_time": "2020-08-05T06:13:07.652727Z"
    }
   },
   "outputs": [
    {
     "name": "stdout",
     "output_type": "stream",
     "text": [
      "a.shape : (3, 2)\n",
      "b.shape : (3, 4)\n",
      "c.shape : (3, 4)\n"
     ]
    }
   ],
   "source": [
    "# 2차원 배열 합치기\n",
    "\n",
    "a = np.arange(6).reshape(3,2)\n",
    "b = np.arange(10,22).reshape(3,4)\n",
    "c = np.arange(20,32).reshape(3,4)\n",
    "\n",
    "print('a.shape :', a.shape)\n",
    "print('b.shape :', b.shape)\n",
    "print('c.shape :', c.shape)"
   ]
  },
  {
   "cell_type": "code",
   "execution_count": 137,
   "metadata": {
    "ExecuteTime": {
     "end_time": "2020-08-05T06:16:11.994028Z",
     "start_time": "2020-08-05T06:16:11.988043Z"
    }
   },
   "outputs": [
    {
     "name": "stdout",
     "output_type": "stream",
     "text": [
      "(3, 6)\n"
     ]
    },
    {
     "data": {
      "text/plain": [
       "array([[ 0,  1, 10, 11, 12, 13],\n",
       "       [ 2,  3, 14, 15, 16, 17],\n",
       "       [ 4,  5, 18, 19, 20, 21]])"
      ]
     },
     "execution_count": 137,
     "metadata": {},
     "output_type": "execute_result"
    }
   ],
   "source": [
    "r1 = np.concatenate([a,b], axis=1) # 2차원부터는 축을 알려줘야한다.\n",
    "# 축 안붙이면 무적권 0번 기준\n",
    "print(r1.shape)\n",
    "r1"
   ]
  },
  {
   "cell_type": "code",
   "execution_count": 138,
   "metadata": {
    "ExecuteTime": {
     "end_time": "2020-08-05T06:16:13.644232Z",
     "start_time": "2020-08-05T06:16:13.636216Z"
    }
   },
   "outputs": [
    {
     "name": "stdout",
     "output_type": "stream",
     "text": [
      "(3, 10)\n"
     ]
    },
    {
     "data": {
      "text/plain": [
       "array([[ 0,  1, 10, 11, 12, 13, 20, 21, 22, 23],\n",
       "       [ 2,  3, 14, 15, 16, 17, 24, 25, 26, 27],\n",
       "       [ 4,  5, 18, 19, 20, 21, 28, 29, 30, 31]])"
      ]
     },
     "execution_count": 138,
     "metadata": {},
     "output_type": "execute_result"
    }
   ],
   "source": [
    "r2 = np.concatenate([a,b,c], axis=1) # 순서는 a,b,c 말고 b,a,c 이런식으로 해도 됨.\n",
    "print(r2.shape)\n",
    "r2"
   ]
  },
  {
   "cell_type": "code",
   "execution_count": 142,
   "metadata": {
    "ExecuteTime": {
     "end_time": "2020-08-05T06:19:10.309044Z",
     "start_time": "2020-08-05T06:19:10.301069Z"
    }
   },
   "outputs": [
    {
     "name": "stdout",
     "output_type": "stream",
     "text": [
      "(6, 4)\n"
     ]
    },
    {
     "data": {
      "text/plain": [
       "array([[10, 11, 12, 13],\n",
       "       [14, 15, 16, 17],\n",
       "       [18, 19, 20, 21],\n",
       "       [20, 21, 22, 23],\n",
       "       [24, 25, 26, 27],\n",
       "       [28, 29, 30, 31]])"
      ]
     },
     "execution_count": 142,
     "metadata": {},
     "output_type": "execute_result"
    }
   ],
   "source": [
    "r3 = np.concatenate([b,c], axis=0)\n",
    "print(r3.shape)\n",
    "r3"
   ]
  },
  {
   "cell_type": "code",
   "execution_count": 144,
   "metadata": {
    "ExecuteTime": {
     "end_time": "2020-08-05T06:22:27.638783Z",
     "start_time": "2020-08-05T06:22:27.628811Z"
    }
   },
   "outputs": [
    {
     "name": "stdout",
     "output_type": "stream",
     "text": [
      "a.shape : (4, 3, 2, 5)\n",
      "b.shape : (3, 3, 2, 5)\n"
     ]
    },
    {
     "data": {
      "text/plain": [
       "array([[[[  0,   1,   2,   3,   4],\n",
       "         [  5,   6,   7,   8,   9]],\n",
       "\n",
       "        [[ 10,  11,  12,  13,  14],\n",
       "         [ 15,  16,  17,  18,  19]],\n",
       "\n",
       "        [[ 20,  21,  22,  23,  24],\n",
       "         [ 25,  26,  27,  28,  29]]],\n",
       "\n",
       "\n",
       "       [[[ 30,  31,  32,  33,  34],\n",
       "         [ 35,  36,  37,  38,  39]],\n",
       "\n",
       "        [[ 40,  41,  42,  43,  44],\n",
       "         [ 45,  46,  47,  48,  49]],\n",
       "\n",
       "        [[ 50,  51,  52,  53,  54],\n",
       "         [ 55,  56,  57,  58,  59]]],\n",
       "\n",
       "\n",
       "       [[[ 60,  61,  62,  63,  64],\n",
       "         [ 65,  66,  67,  68,  69]],\n",
       "\n",
       "        [[ 70,  71,  72,  73,  74],\n",
       "         [ 75,  76,  77,  78,  79]],\n",
       "\n",
       "        [[ 80,  81,  82,  83,  84],\n",
       "         [ 85,  86,  87,  88,  89]]],\n",
       "\n",
       "\n",
       "       [[[ 90,  91,  92,  93,  94],\n",
       "         [ 95,  96,  97,  98,  99]],\n",
       "\n",
       "        [[100, 101, 102, 103, 104],\n",
       "         [105, 106, 107, 108, 109]],\n",
       "\n",
       "        [[110, 111, 112, 113, 114],\n",
       "         [115, 116, 117, 118, 119]]]])"
      ]
     },
     "execution_count": 144,
     "metadata": {},
     "output_type": "execute_result"
    }
   ],
   "source": [
    "# 4차원 (rank4)\n",
    "\n",
    "a = np.arange(4*3*2*5).reshape(4,3,2,5)\n",
    "b = np.arange(3*3*2*5).reshape(3,3,2,5)\n",
    "print('a.shape :', a.shape)\n",
    "print('b.shape :', b.shape)\n",
    "a"
   ]
  },
  {
   "cell_type": "code",
   "execution_count": 146,
   "metadata": {
    "ExecuteTime": {
     "end_time": "2020-08-05T06:23:38.369990Z",
     "start_time": "2020-08-05T06:23:38.363009Z"
    }
   },
   "outputs": [
    {
     "data": {
      "text/plain": [
       "(7, 3, 2, 5)"
      ]
     },
     "execution_count": 146,
     "metadata": {},
     "output_type": "execute_result"
    }
   ],
   "source": [
    "r = np.concatenate([a,b], axis=0)\n",
    "r.shape"
   ]
  },
  {
   "cell_type": "code",
   "execution_count": null,
   "metadata": {},
   "outputs": [],
   "source": []
  },
  {
   "cell_type": "code",
   "execution_count": null,
   "metadata": {},
   "outputs": [],
   "source": []
  },
  {
   "cell_type": "markdown",
   "metadata": {},
   "source": [
    "### 합칠 대상 배열의 rank가 2일 경우(행렬) \n",
    "- vstack()\n",
    "- hstack()\n",
    "- np.concatenate()의 간단버전"
   ]
  },
  {
   "cell_type": "markdown",
   "metadata": {},
   "source": [
    "#### vstack(합칠배열리스트)\n",
    "- 수직으로 쌓는다.\n",
    "- concatenate() 의 axis=0 와 동일\n",
    "- 합칠 배열들의 열수가 같아야 한다."
   ]
  },
  {
   "cell_type": "markdown",
   "metadata": {},
   "source": [
    "- vstack()\n",
    "    - 아래에 붙이는 개념이므로 열수가 맞아야 한다. \n",
    "    - axis=0과 동일"
   ]
  },
  {
   "cell_type": "code",
   "execution_count": 147,
   "metadata": {
    "ExecuteTime": {
     "end_time": "2020-08-05T06:26:58.346805Z",
     "start_time": "2020-08-05T06:26:58.339824Z"
    }
   },
   "outputs": [
    {
     "name": "stdout",
     "output_type": "stream",
     "text": [
      "a.shape : (3, 2)\n",
      "b.shape : (3, 4)\n",
      "c.shape : (3, 4)\n"
     ]
    }
   ],
   "source": [
    "a = np.arange(6).reshape(3,2)\n",
    "b = np.arange(10,22).reshape(3,4)\n",
    "c = np.arange(20,32).reshape(3,4)\n",
    "\n",
    "print('a.shape :', a.shape)\n",
    "print('b.shape :', b.shape)\n",
    "print('c.shape :', c.shape)"
   ]
  },
  {
   "cell_type": "code",
   "execution_count": 152,
   "metadata": {
    "ExecuteTime": {
     "end_time": "2020-08-05T06:27:33.842996Z",
     "start_time": "2020-08-05T06:27:33.836015Z"
    }
   },
   "outputs": [
    {
     "data": {
      "text/plain": [
       "array([[10, 11, 12, 13],\n",
       "       [14, 15, 16, 17],\n",
       "       [18, 19, 20, 21],\n",
       "       [20, 21, 22, 23],\n",
       "       [24, 25, 26, 27],\n",
       "       [28, 29, 30, 31]])"
      ]
     },
     "execution_count": 152,
     "metadata": {},
     "output_type": "execute_result"
    }
   ],
   "source": [
    "np.vstack([b,c])"
   ]
  },
  {
   "cell_type": "markdown",
   "metadata": {},
   "source": [
    "#### hstack(합칠배열리스트)\n",
    "- 수평으로 쌓는다.\n",
    "- concatenate() 의 axis=1 와 동일\n",
    "- 합칠 배열들의 행 수가 같아야 한다."
   ]
  },
  {
   "cell_type": "markdown",
   "metadata": {},
   "source": [
    "- hstack()\n",
    "    - 옆으로 붙이는 것이므로 행 수가 같아야 한다.\n",
    "    - axis=1과 동일"
   ]
  },
  {
   "cell_type": "code",
   "execution_count": 153,
   "metadata": {
    "ExecuteTime": {
     "end_time": "2020-08-05T06:28:01.904986Z",
     "start_time": "2020-08-05T06:28:01.899002Z"
    }
   },
   "outputs": [
    {
     "data": {
      "text/plain": [
       "array([[ 0,  1, 10, 11, 12, 13, 20, 21, 22, 23],\n",
       "       [ 2,  3, 14, 15, 16, 17, 24, 25, 26, 27],\n",
       "       [ 4,  5, 18, 19, 20, 21, 28, 29, 30, 31]])"
      ]
     },
     "execution_count": 153,
     "metadata": {},
     "output_type": "execute_result"
    }
   ],
   "source": [
    "np.hstack([a,b,c])"
   ]
  },
  {
   "cell_type": "markdown",
   "metadata": {},
   "source": [
    "그냥 concatenate 쓰자."
   ]
  },
  {
   "cell_type": "markdown",
   "metadata": {},
   "source": [
    "## 배열 분할 하기\n",
    "내가 지정한 축을 제외한 나머지 축은 바뀌지 않는다."
   ]
  },
  {
   "cell_type": "markdown",
   "metadata": {},
   "source": [
    "### split(배열, 분할기준, axis)\n",
    "- 지정한 축을 기준으로 배열을 나눈다.. \n",
    "- 반환값: 분할한 narray를 가진 리스트로 리턴.\n",
    "- 배열: 분할할 배열\n",
    "- 분할기준\n",
    "    - 정수 : 지정 개수만큼 분할. 쪼개진 애들의 개수가 같아야한다.\n",
    "    - 리스트 : 분할 기준 index들. 인덱스가 두 개면 세 개로 나누고, 세 개면 네 개로 나눈다.\n",
    "- axis(축)\n",
    "    - 분할할 기준 축을 지정한다. axis = 0 (기본) \n",
    "    - 2D의 경우 axis=0: 행 기준 분할, axis=1: 열 기준 분할"
   ]
  },
  {
   "cell_type": "markdown",
   "metadata": {},
   "source": [
    "### vsplit(배열, 분할기준)\n",
    "- 행 기준 분할\n",
    "- split()의 axis=0과 동일\n",
    "- 분할기준\n",
    "    - 정수 : 지정 개수만큼 분할\n",
    "    - 리스트 : 분할 기준 index들"
   ]
  },
  {
   "cell_type": "markdown",
   "metadata": {},
   "source": [
    "### hsplit(배열, 분할기준)\n",
    "- 열 기준 분할\n",
    "- split()의 axis=1과 동일\n",
    "- 분할기준\n",
    "    - 정수 : 지정 개수만큼 분할\n",
    "    - 리스트 : 분할 기준 index들\n",
    "**주의:** 분할기준을 정수(개수)로 할 경우 분할 후 원소수가 같아야 한다. "
   ]
  },
  {
   "cell_type": "code",
   "execution_count": 155,
   "metadata": {
    "ExecuteTime": {
     "end_time": "2020-08-05T06:38:41.920267Z",
     "start_time": "2020-08-05T06:38:41.915285Z"
    }
   },
   "outputs": [
    {
     "data": {
      "text/plain": [
       "array([0, 1, 2, 3, 4, 5, 6, 7, 8, 9])"
      ]
     },
     "execution_count": 155,
     "metadata": {},
     "output_type": "execute_result"
    }
   ],
   "source": [
    "a = np.arange(10)\n",
    "a"
   ]
  },
  {
   "cell_type": "code",
   "execution_count": 156,
   "metadata": {
    "ExecuteTime": {
     "end_time": "2020-08-05T06:38:49.123474Z",
     "start_time": "2020-08-05T06:38:49.116495Z"
    }
   },
   "outputs": [
    {
     "data": {
      "text/plain": [
       "[array([0, 1, 2, 3, 4]), array([5, 6, 7, 8, 9])]"
      ]
     },
     "execution_count": 156,
     "metadata": {},
     "output_type": "execute_result"
    }
   ],
   "source": [
    "# 정수로 분할하기\n",
    "np.split(a, 2)"
   ]
  },
  {
   "cell_type": "code",
   "execution_count": 158,
   "metadata": {
    "ExecuteTime": {
     "end_time": "2020-08-05T06:39:26.523973Z",
     "start_time": "2020-08-05T06:39:26.519983Z"
    }
   },
   "outputs": [],
   "source": [
    "# np.split(a, 3) # 에러 발생. 10을 3으로 나눌 수 없음"
   ]
  },
  {
   "cell_type": "code",
   "execution_count": 163,
   "metadata": {
    "ExecuteTime": {
     "end_time": "2020-08-05T06:40:43.752878Z",
     "start_time": "2020-08-05T06:40:43.745896Z"
    }
   },
   "outputs": [
    {
     "data": {
      "text/plain": [
       "[array([0, 1]), array([2, 3, 4]), array([5, 6, 7, 8, 9])]"
      ]
     },
     "execution_count": 163,
     "metadata": {},
     "output_type": "execute_result"
    }
   ],
   "source": [
    "# 인덱스를 기준으로 분할하기\n",
    "np.split(a, [2,5])"
   ]
  },
  {
   "cell_type": "code",
   "execution_count": 170,
   "metadata": {
    "ExecuteTime": {
     "end_time": "2020-08-05T06:44:19.881624Z",
     "start_time": "2020-08-05T06:44:19.874643Z"
    }
   },
   "outputs": [
    {
     "name": "stdout",
     "output_type": "stream",
     "text": [
      "(7, 6)\n"
     ]
    },
    {
     "data": {
      "text/plain": [
       "array([[ 0,  1,  2,  3,  4,  5],\n",
       "       [ 6,  7,  8,  9, 10, 11],\n",
       "       [12, 13, 14, 15, 16, 17],\n",
       "       [18, 19, 20, 21, 22, 23],\n",
       "       [24, 25, 26, 27, 28, 29],\n",
       "       [30, 31, 32, 33, 34, 35],\n",
       "       [36, 37, 38, 39, 40, 41]])"
      ]
     },
     "execution_count": 170,
     "metadata": {},
     "output_type": "execute_result"
    }
   ],
   "source": [
    "# 2차원 분할하기\n",
    "b = np.arange(42).reshape(7,6)\n",
    "print(b.shape)\n",
    "b"
   ]
  },
  {
   "cell_type": "code",
   "execution_count": 173,
   "metadata": {
    "ExecuteTime": {
     "end_time": "2020-08-05T06:44:45.305631Z",
     "start_time": "2020-08-05T06:44:45.297655Z"
    },
    "scrolled": false
   },
   "outputs": [
    {
     "name": "stdout",
     "output_type": "stream",
     "text": [
      "(7, 3) (7, 3)\n"
     ]
    },
    {
     "data": {
      "text/plain": [
       "(array([[ 0,  1,  2],\n",
       "        [ 6,  7,  8],\n",
       "        [12, 13, 14],\n",
       "        [18, 19, 20],\n",
       "        [24, 25, 26],\n",
       "        [30, 31, 32],\n",
       "        [36, 37, 38]]),\n",
       " array([[ 3,  4,  5],\n",
       "        [ 9, 10, 11],\n",
       "        [15, 16, 17],\n",
       "        [21, 22, 23],\n",
       "        [27, 28, 29],\n",
       "        [33, 34, 35],\n",
       "        [39, 40, 41]]))"
      ]
     },
     "execution_count": 173,
     "metadata": {},
     "output_type": "execute_result"
    }
   ],
   "source": [
    "# 방향이 두 개라서 축을 지정해줘야함.\n",
    "# np.split(b, 2, axis=0) # 에러 발생. # 7을 둘로 나눌 수 없음.\n",
    "r1, r2 = np.split(b, 2, axis=1)\n",
    "print(r1.shape, r2.shape)\n",
    "r1, r2"
   ]
  },
  {
   "cell_type": "code",
   "execution_count": 174,
   "metadata": {
    "ExecuteTime": {
     "end_time": "2020-08-05T06:46:09.105453Z",
     "start_time": "2020-08-05T06:46:09.098471Z"
    }
   },
   "outputs": [
    {
     "data": {
      "text/plain": [
       "[array([[ 0,  1,  2,  3,  4,  5],\n",
       "        [ 6,  7,  8,  9, 10, 11]]),\n",
       " array([[12, 13, 14, 15, 16, 17],\n",
       "        [18, 19, 20, 21, 22, 23],\n",
       "        [24, 25, 26, 27, 28, 29]]),\n",
       " array([[30, 31, 32, 33, 34, 35],\n",
       "        [36, 37, 38, 39, 40, 41]])]"
      ]
     },
     "execution_count": 174,
     "metadata": {},
     "output_type": "execute_result"
    }
   ],
   "source": [
    "np.split(b, [2,5], axis=0)"
   ]
  },
  {
   "cell_type": "code",
   "execution_count": 175,
   "metadata": {
    "ExecuteTime": {
     "end_time": "2020-08-05T06:46:51.354060Z",
     "start_time": "2020-08-05T06:46:51.346081Z"
    }
   },
   "outputs": [
    {
     "data": {
      "text/plain": [
       "[array([[ 0,  1],\n",
       "        [ 6,  7],\n",
       "        [12, 13],\n",
       "        [18, 19],\n",
       "        [24, 25],\n",
       "        [30, 31],\n",
       "        [36, 37]]),\n",
       " array([[ 2,  3,  4],\n",
       "        [ 8,  9, 10],\n",
       "        [14, 15, 16],\n",
       "        [20, 21, 22],\n",
       "        [26, 27, 28],\n",
       "        [32, 33, 34],\n",
       "        [38, 39, 40]]),\n",
       " array([[ 5],\n",
       "        [11],\n",
       "        [17],\n",
       "        [23],\n",
       "        [29],\n",
       "        [35],\n",
       "        [41]])]"
      ]
     },
     "execution_count": 175,
     "metadata": {},
     "output_type": "execute_result"
    }
   ],
   "source": [
    "np.split(b, [2,5], axis=1)"
   ]
  },
  {
   "cell_type": "markdown",
   "metadata": {},
   "source": [
    "## hsplit()/vsplit()"
   ]
  },
  {
   "cell_type": "code",
   "execution_count": null,
   "metadata": {},
   "outputs": [],
   "source": []
  },
  {
   "cell_type": "code",
   "execution_count": null,
   "metadata": {},
   "outputs": [],
   "source": []
  },
  {
   "cell_type": "code",
   "execution_count": null,
   "metadata": {},
   "outputs": [],
   "source": []
  },
  {
   "cell_type": "code",
   "execution_count": null,
   "metadata": {},
   "outputs": [],
   "source": []
  }
 ],
 "metadata": {
  "kernelspec": {
   "display_name": "Python 3",
   "language": "python",
   "name": "python3"
  },
  "language_info": {
   "codemirror_mode": {
    "name": "ipython",
    "version": 3
   },
   "file_extension": ".py",
   "mimetype": "text/x-python",
   "name": "python",
   "nbconvert_exporter": "python",
   "pygments_lexer": "ipython3",
   "version": "3.7.6"
  },
  "toc": {
   "base_numbering": 1,
   "nav_menu": {},
   "number_sections": true,
   "sideBar": true,
   "skip_h1_title": true,
   "title_cell": "Table of Contents",
   "title_sidebar": "Contents",
   "toc_cell": true,
   "toc_position": {
    "height": "calc(100% - 180px)",
    "left": "10px",
    "top": "150px",
    "width": "409.6px"
   },
   "toc_section_display": true,
   "toc_window_display": true
  },
  "varInspector": {
   "cols": {
    "lenName": 16,
    "lenType": 16,
    "lenVar": 40
   },
   "kernels_config": {
    "python": {
     "delete_cmd_postfix": "",
     "delete_cmd_prefix": "del ",
     "library": "var_list.py",
     "varRefreshCmd": "print(var_dic_list())"
    },
    "r": {
     "delete_cmd_postfix": ") ",
     "delete_cmd_prefix": "rm(",
     "library": "var_list.r",
     "varRefreshCmd": "cat(var_dic_list()) "
    }
   },
   "types_to_exclude": [
    "module",
    "function",
    "builtin_function_or_method",
    "instance",
    "_Feature"
   ],
   "window_display": false
  }
 },
 "nbformat": 4,
 "nbformat_minor": 2
}
